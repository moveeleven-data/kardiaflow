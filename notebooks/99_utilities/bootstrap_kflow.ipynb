{
 "cells": [
  {
   "metadata": {},
   "cell_type": "code",
   "outputs": [],
   "execution_count": null,
   "source": [
    "# MAGIC %md\n",
    "# MAGIC ## Optional Library Bootstrap\n",
    "# MAGIC Uncomment the line below if a fresh jobs cluster is missing `kflow`.\n",
    "\n",
    "# %pip install -q --no-deps --no-index --find-links=/dbfs/Shared/libs kflow\n",
    "\n",
    "import importlib.util\n",
    "if importlib.util.find_spec(\"kflow\") is None:\n",
    "    print(\"`kflow` not found. On a fresh jobs cluster, uncomment the %pip line above.\")"
   ],
   "id": "e6aad99865feaae"
  }
 ],
 "metadata": {},
 "nbformat": 4,
 "nbformat_minor": 5
}
