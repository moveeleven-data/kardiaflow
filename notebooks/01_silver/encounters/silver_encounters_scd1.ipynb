{
 "cells": [
  {
   "metadata": {},
   "cell_type": "code",
   "outputs": [],
   "execution_count": null,
   "source": [
    "%md\n",
    "### Kardiaflow - Silver Encounters (SCD1)\n",
    "\n",
    "**Source:** `kardia_bronze.bronze_encounters` (CDF)\n",
    "\n",
    "**Target:** `kardia_silver.silver_encounters` (SCD1 upsert)\n",
    "\n",
    "**Pattern:** Deduplicate by encounter; MERGE to update or insert (SCD1)\n",
    "\n",
    "**Trigger:** (configurable via job param `mode`)\n",
    "- **Batch mode:** one-time processing of available data\n",
    "- **Stream mode:** continuous micro-batches (30s)\n",
    "\n",
    "**Description:** The Silver layer is where raw data becomes trustworthy and usable. Here we enforce constraints,\n",
    "standardize types, rename fields into consistent names, mask PHI, and apply deduplication, SCD1/SCD2 handling, and\n",
    "timezone normalization. In dbt, staging handles renaming/typing while refined handles business rules, making lineage and documentation transparent in its SQL-first world. In Kardiaflow, we combine both in Silver, following Delta Lake convention where Silver covers adaptation and core business logic."
   ]
  },
  {
   "metadata": {},
   "cell_type": "code",
   "outputs": [],
   "execution_count": null,
   "source": [
    "from delta.tables import DeltaTable\n",
    "from pyspark.sql import functions as F\n",
    "from pyspark.sql.window import Window\n",
    "\n",
    "from kflow.config import BRONZE_DB, bronze_table, CHANGE_TYPES, SILVER_DB, silver_paths\n",
    "from kflow.notebook_utils import init\n",
    "\n",
    "init()\n",
    "\n",
    "# Load table paths and names for the Encounters dataset\n",
    "S = silver_paths(\"encounters\")\n",
    "SRC_TABLE = bronze_table(\"encounters\")\n",
    "TGT_TABLE = S.table"
   ]
  },
  {
   "metadata": {},
   "cell_type": "code",
   "outputs": [],
   "execution_count": null,
   "source": [
    "# 1. Retrieve runtime mode from job widget: \"batch\" (default) or \"stream\"\n",
    "try:\n",
    "    dbutils.widgets.dropdown(\"mode\", \"batch\", [\"batch\", \"stream\"])\n",
    "except:\n",
    "    pass\n",
    "\n",
    "MODE       = dbutils.widgets.get(\"mode\") if \"dbutils\" in globals() else \"batch\"\n",
    "IS_BATCH   = (MODE == \"batch\")\n",
    "CHECKPOINT = f\"{S.checkpoint}/{MODE}\""
   ]
  },
  {
   "metadata": {
    "application/vnd.databricks.v1+cell": {
     "cellMetadata": {
      "byteLimit": 2048000,
      "rowLimit": 10000
     },
     "inputWidgets": {},
     "nuid": "016cb326-066d-4d65-9a9f-c7384847d45b",
     "showTitle": false,
     "tableResultSettingsMap": {},
     "title": ""
    }
   },
   "cell_type": "code",
   "outputs": [],
   "execution_count": null,
   "source": [
    "# 2. Ensure Silver DB and Encounters table exist\n",
    "spark.sql(f\"CREATE DATABASE IF NOT EXISTS {S.db}\")\n",
    "\n",
    "spark.sql(\n",
    "    f\"\"\"\n",
    "    CREATE TABLE IF NOT EXISTS {TGT_TABLE} (\n",
    "      encounter_id       STRING  NOT NULL,\n",
    "      patient_id         STRING  NOT NULL,\n",
    "      START_TS           TIMESTAMP,\n",
    "      CODE               STRING,\n",
    "      DESCRIPTION        STRING,\n",
    "      REASONCODE         STRING,\n",
    "      REASONDESCRIPTION  STRING,\n",
    "      _ingest_ts         TIMESTAMP,\n",
    "      _batch_id          STRING,\n",
    "      _source_file       STRING\n",
    "    ) USING DELTA\n",
    "    LOCATION '{S.path}'\n",
    "    \"\"\"\n",
    ")"
   ]
  },
  {
   "metadata": {
    "application/vnd.databricks.v1+cell": {
     "cellMetadata": {
      "byteLimit": 2048000,
      "rowLimit": 10000
     },
     "inputWidgets": {},
     "nuid": "06d43d7a-5889-4024-baba-0e2e38f51372",
     "showTitle": false,
     "tableResultSettingsMap": {},
     "title": ""
    }
   },
   "cell_type": "code",
   "outputs": [],
   "execution_count": null,
   "source": [
    "# 3. Define upsert logic to apply SCD1 updates to Silver Encounters\n",
    "def upsert_to_silver(batch_df, batch_id):\n",
    "    # Retain the latest record per encounter_id, ordered by commit version\n",
    "    w_latest = (\n",
    "        Window.partitionBy(\"encounter_id\")\n",
    "              .orderBy(\n",
    "                  F.col(\"_commit_version\").desc_nulls_last(),\n",
    "                  F.col(\"_commit_timestamp\").desc_nulls_last()\n",
    "              )\n",
    "    )\n",
    "\n",
    "    latest_df = (\n",
    "        batch_df\n",
    "          .withColumn(\"rn\", F.row_number().over(w_latest))\n",
    "          .filter(\"rn = 1\")\n",
    "          .drop(\"rn\", \"_commit_version\", \"_commit_timestamp\")\n",
    "    )\n",
    "\n",
    "    # Upsert into Silver (update existing Encounters, insert new ones)\n",
    "    (\n",
    "        DeltaTable.forName(spark, TGT_TABLE)\n",
    "                  .alias(\"t\")\n",
    "                  .merge(latest_df.alias(\"s\"), \"t.encounter_id = s.encounter_id\")\n",
    "                  .whenMatchedUpdateAll()\n",
    "                  .whenNotMatchedInsertAll()\n",
    "                  .execute()\n",
    "    )"
   ]
  },
  {
   "metadata": {
    "application/vnd.databricks.v1+cell": {
     "cellMetadata": {
      "byteLimit": 2048000,
      "rowLimit": 10000
     },
     "inputWidgets": {},
     "nuid": "0a0d2947-8e11-4546-a429-43811e506b22",
     "showTitle": false,
     "tableResultSettingsMap": {},
     "title": ""
    }
   },
   "cell_type": "code",
   "outputs": [],
   "execution_count": null,
   "source": [
    "# 4a. Read new and changed rows from Bronze via CDF\n",
    "silver_ready = (\n",
    "    spark.readStream\n",
    "         .format(\"delta\")\n",
    "         .option(\"readChangeFeed\", \"true\")\n",
    "         .option(\"startingVersion\", 1) # Skip v0; table creation/metadata. Checkpoint will track after first run.\n",
    "         .table(SRC_TABLE)\n",
    "         .filter(\n",
    "             F.col(\"_change_type\").isin(*CHANGE_TYPES) &\n",
    "             F.col(\"ID\").isNotNull() &\n",
    "             F.col(\"PATIENT\").isNotNull()\n",
    "         )\n",
    "         .select(\n",
    "             F.col(\"ID\").alias(\"encounter_id\"),\n",
    "             F.col(\"PATIENT\").alias(\"patient_id\"),\n",
    "             F.to_timestamp(\"DATE\", \"yyyy-MM-dd\").alias(\"START_TS\"),\n",
    "             F.col(\"CODE\").cast(\"string\").alias(\"CODE\"),\n",
    "             F.col(\"DESCRIPTION\"),\n",
    "             F.col(\"REASONCODE\").cast(\"string\").alias(\"REASONCODE\"),\n",
    "             F.col(\"REASONDESCRIPTION\"),\n",
    "             F.col(\"_commit_version\"),\n",
    "             F.col(\"_commit_timestamp\"),\n",
    "             F.col(\"_ingest_ts\"),\n",
    "             F.col(\"_batch_id\"),\n",
    "             F.col(\"_source_file\")\n",
    "         )\n",
    ")"
   ]
  },
  {
   "metadata": {
    "application/vnd.databricks.v1+cell": {
     "cellMetadata": {
      "byteLimit": 2048000,
      "rowLimit": 10000
     },
     "inputWidgets": {},
     "nuid": "9c204c1b-f47d-460f-aad9-77add3128745",
     "showTitle": false,
     "tableResultSettingsMap": {},
     "title": ""
    }
   },
   "cell_type": "code",
   "outputs": [],
   "execution_count": null,
   "source": [
    "# 4b. Deduplicate and merge each batch so Silver always reflects the latest encounter data\n",
    "writer = (\n",
    "    silver_ready.writeStream\n",
    "                .foreachBatch(upsert_to_silver)\n",
    "                .option(\"checkpointLocation\", CHECKPOINT)\n",
    ")"
   ]
  },
  {
   "metadata": {
    "application/vnd.databricks.v1+cell": {
     "cellMetadata": {
      "byteLimit": 2048000,
      "rowLimit": 10000
     },
     "inputWidgets": {},
     "nuid": "3d7bb5a5-b3f1-4784-9585-90f957e29aee",
     "showTitle": false,
     "tableResultSettingsMap": {},
     "title": ""
    }
   },
   "cell_type": "code",
   "outputs": [],
   "execution_count": null,
   "source": [
    "# 5. Run as either batch or stream depending on runtime mode\n",
    "if IS_BATCH:\n",
    "    # Batch mode: process all available files once and exit\n",
    "    query = writer.trigger(availableNow=True).start()\n",
    "    print(f\"[batch] Read CDF to {TGT_TABLE} (checkpoint={CHECKPOINT}) …\")\n",
    "    query.awaitTermination()\n",
    "else:\n",
    "    # Streaming mode: run continuously every 30s\n",
    "    query = writer.trigger(processingTime=\"30 seconds\").start()\n",
    "    print(f\"[live] Continuous 30s CDF upserts to {TGT_TABLE} (checkpoint={CHECKPOINT})\")"
   ]
  }
 ],
 "metadata": {
  "application/vnd.databricks.v1+notebook": {
   "computePreferences": null,
   "dashboards": [],
   "environmentMetadata": {
    "base_environment": "",
    "environment_version": "2"
   },
   "inputWidgetPreferences": null,
   "language": "python",
   "notebookMetadata": {
    "mostRecentlyExecutedCommandWithImplicitDF": {
     "commandId": 7461780133328231,
     "dataframes": [
      "_sqldf"
     ]
    },
    "pythonIndentUnit": 4
   },
   "notebookName": "silver_encounters_scd1_stream",
   "widgets": {}
  },
  "language_info": {
   "name": "python"
  }
 },
 "nbformat": 4,
 "nbformat_minor": 0
}
