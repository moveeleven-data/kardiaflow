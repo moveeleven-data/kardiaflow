{
 "cells": [
  {
   "metadata": {},
   "cell_type": "code",
   "outputs": [],
   "execution_count": null,
   "source": [
    "%md\n",
    "### Kardiaflow - Silver Encounters Enriched\n",
    "\n",
    "**Source:** Stream from Silver encounters joined with static Silver patients\n",
    "\n",
    "**Target:** `kardia_silver.silver_encounters_enriched`\n",
    "\n",
    "**Pattern:** Stream–static LEFT JOIN; MERGE into Silver enriched table\n",
    "\n",
    "**Trigger:**\n",
    "- **Batch mode:** one-time processing of available data\n",
    "- **Stream mode:** continuous micro-batches (30s)\n",
    "\n",
    "Notes: LEFT JOIN ensures encounters are preserved even if patient is missing."
   ]
  },
  {
   "metadata": {},
   "cell_type": "code",
   "outputs": [],
   "execution_count": null,
   "source": [
    "from delta.tables import DeltaTable\n",
    "from pyspark.sql import functions as F\n",
    "\n",
    "from kflow.config import silver_paths\n",
    "from kflow.notebook_utils import init\n",
    "\n",
    "init()\n",
    "\n",
    "# Load table paths and names for the Encounters dataset\n",
    "S = silver_paths(\"encounters_enriched\")\n",
    "TGT_TABLE = S.table"
   ]
  },
  {
   "metadata": {},
   "cell_type": "code",
   "outputs": [],
   "execution_count": null,
   "source": [
    "# 2. Retrieve runtime mode from job widget: \"batch\" (default) or \"stream\"\n",
    "try:\n",
    "    dbutils.widgets.dropdown(\"mode\", \"batch\", [\"batch\", \"stream\"])\n",
    "except:\n",
    "    pass\n",
    "\n",
    "MODE       = dbutils.widgets.get(\"mode\") if \"dbutils\" in globals() else \"batch\"\n",
    "IS_BATCH   = (MODE == \"batch\")\n",
    "CHECKPOINT = f\"{S.checkpoint}/{MODE}\""
   ]
  },
  {
   "cell_type": "code",
   "execution_count": 0,
   "metadata": {
    "application/vnd.databricks.v1+cell": {
     "cellMetadata": {
      "byteLimit": 2048000,
      "rowLimit": 10000
     },
     "inputWidgets": {},
     "nuid": "6002dfd1-23a2-4640-b76d-005c061a766c",
     "showTitle": false,
     "tableResultSettingsMap": {},
     "title": ""
    }
   },
   "outputs": [],
   "source": [
    "# 3. Ensure the Silver DB and Encounters table exist\n",
    "spark.sql(f\"CREATE DATABASE IF NOT EXISTS {S.db}\")\n",
    "\n",
    "spark.sql(\n",
    "    f\"\"\"\n",
    "    CREATE TABLE IF NOT EXISTS {TGT_TABLE} (\n",
    "        encounter_id       STRING,\n",
    "        patient_id         STRING,\n",
    "        START_TS           TIMESTAMP,\n",
    "        CODE               STRING,\n",
    "        DESCRIPTION        STRING,\n",
    "        REASONCODE         STRING,\n",
    "        REASONDESCRIPTION  STRING,\n",
    "        gender             STRING,\n",
    "        birth_year         INT,\n",
    "        _ingest_ts         TIMESTAMP,\n",
    "        _batch_id          STRING,\n",
    "        _source_file       STRING\n",
    "    ) USING DELTA\n",
    "    LOCATION '{S.path}'\n",
    "    \"\"\"\n",
    ")"
   ]
  },
  {
   "cell_type": "code",
   "execution_count": 0,
   "metadata": {
    "application/vnd.databricks.v1+cell": {
     "cellMetadata": {
      "byteLimit": 2048000,
      "rowLimit": 10000
     },
     "inputWidgets": {},
     "nuid": "b60a8fbb-607a-4956-8280-884b7ccb6c61",
     "showTitle": false,
     "tableResultSettingsMap": {},
     "title": ""
    }
   },
   "outputs": [],
   "source": [
    "# 4. Read inputs\n",
    "#  - Stream from Silver Encounters (fact/event data)\n",
    "#  - Static lookup from Silver Patients (dimension: demographics)\n",
    "enc_stream  = spark.readStream.table(\"kardia_silver.silver_encounters\")\n",
    "patients_df = spark.table(\"kardia_silver.silver_patients\")"
   ]
  },
  {
   "cell_type": "code",
   "execution_count": 0,
   "metadata": {
    "application/vnd.databricks.v1+cell": {
     "cellMetadata": {
      "byteLimit": 2048000,
      "rowLimit": 10000
     },
     "inputWidgets": {},
     "nuid": "4e2079ec-f0d3-4cc4-a662-e1fecceae117",
     "showTitle": false,
     "tableResultSettingsMap": {},
     "title": ""
    }
   },
   "outputs": [],
   "source": [
    "# 5. Join Encounters with Patient info\n",
    "#    Left join ensures all encounters are preserved, even if patient record is missing\n",
    "joined = (\n",
    "    enc_stream.alias(\"e\")\n",
    "              .join(\n",
    "                 patients_df.alias(\"p\"),\n",
    "                 F.col(\"e.patient_id\") == F.col(\"p.id\"),\n",
    "                 \"left\"\n",
    "              )\n",
    "              .select(\n",
    "                 F.col(\"e.encounter_id\"),\n",
    "                 F.col(\"e.patient_id\"),\n",
    "                 F.col(\"e.START_TS\"),\n",
    "                 F.col(\"e.CODE\"),\n",
    "                 F.col(\"e.DESCRIPTION\"),\n",
    "                 F.col(\"e.REASONCODE\"),\n",
    "                 F.col(\"e.REASONDESCRIPTION\"),\n",
    "                 F.col(\"p.gender\").alias(\"gender\"),\n",
    "                 F.col(\"p.birth_year\").alias(\"birth_year\"),\n",
    "                 F.col(\"e._ingest_ts\").alias(\"_ingest_ts\"),\n",
    "                 F.col(\"e._batch_id\").alias(\"_batch_id\"),\n",
    "                 F.col(\"e._source_file\").alias(\"_source_file\")\n",
    "            )\n",
    ")"
   ]
  },
  {
   "cell_type": "code",
   "execution_count": 0,
   "metadata": {
    "application/vnd.databricks.v1+cell": {
     "cellMetadata": {
      "byteLimit": 2048000,
      "rowLimit": 10000
     },
     "inputWidgets": {},
     "nuid": "bd6d7d08-790b-4765-a20e-815023c77370",
     "showTitle": false,
     "tableResultSettingsMap": {},
     "title": ""
    }
   },
   "outputs": [],
   "source": [
    "# 6. Define upsert logic to merge each micro-batch into Silver Encounters Enriched\n",
    "def upsert_to_encounters(batch_df, batch_id):\n",
    "    (DeltaTable.forName(spark, TGT_TABLE)\n",
    "               .alias(\"t\")\n",
    "               .merge(batch_df.alias(\"s\"), \"t.encounter_id = s.encounter_id\")\n",
    "               .whenMatchedUpdateAll()\n",
    "               .whenNotMatchedInsertAll()\n",
    "               .execute())"
   ]
  },
  {
   "cell_type": "code",
   "execution_count": 0,
   "metadata": {
    "application/vnd.databricks.v1+cell": {
     "cellMetadata": {
      "byteLimit": 2048000,
      "rowLimit": 10000
     },
     "inputWidgets": {},
     "nuid": "e5e85498-522d-4f89-a3ea-f0bfaf06d8f3",
     "showTitle": false,
     "tableResultSettingsMap": {},
     "title": ""
    }
   },
   "outputs": [],
   "source": [
    "# 7. Configure output stream to persist joined results to Silver Encounters Enriched table\n",
    "writer = (\n",
    "    joined.writeStream\n",
    "          .foreachBatch(upsert_to_encounters)\n",
    "          .option(\"checkpointLocation\", CHECKPOINT)\n",
    ")"
   ]
  },
  {
   "metadata": {},
   "cell_type": "code",
   "outputs": [],
   "execution_count": null,
   "source": [
    "# 8. Toggle trigger mode at runtime via job param \"mode\" (set with dbutils.widgets, default: \"batch\")\n",
    "if IS_BATCH:\n",
    "    # Batch mode: process all available files once and exit\n",
    "    query = writer.trigger(availableNow=True).start()\n",
    "    print(f\"[batch] Joined encounters with patients and wrote to {TGT_TABLE} (checkpoint={CHECKPOINT}) …\")\n",
    "    query.awaitTermination()\n",
    "else:\n",
    "    # Streaming mode: run continuously every 30s\n",
    "    query = writer.trigger(processingTime=\"30 seconds\").start()\n",
    "    print(f\"[live] Continuous 30s enrich to {TGT_TABLE} (checkpoint={CHECKPOINT})\")"
   ]
  }
 ],
 "metadata": {
  "application/vnd.databricks.v1+notebook": {
   "computePreferences": null,
   "dashboards": [],
   "environmentMetadata": {
    "base_environment": "",
    "environment_version": "2"
   },
   "inputWidgetPreferences": null,
   "language": "python",
   "notebookMetadata": {
    "mostRecentlyExecutedCommandWithImplicitDF": {
     "commandId": 5549892236114566,
     "dataframes": [
      "_sqldf"
     ]
    },
    "pythonIndentUnit": 4
   },
   "notebookName": "z_join_silver_encounters_enriched",
   "widgets": {}
  },
  "language_info": {
   "name": "python"
  }
 },
 "nbformat": 4,
 "nbformat_minor": 0
}
