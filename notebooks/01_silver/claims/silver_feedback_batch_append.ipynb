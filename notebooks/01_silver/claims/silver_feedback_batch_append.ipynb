{
 "cells": [
  {
   "metadata": {},
   "cell_type": "code",
   "outputs": [],
   "execution_count": null,
   "source": [
    "%md\n",
    "### Kardiaflow - Silver Feedback (Append-only)\n",
    "\n",
    "**Source:** `kardia_bronze.bronze_feedback` (JSONL with audit metadata)\n",
    "\n",
    "**Target:** `kardia_silver.silver_feedback` (append-only)\n",
    "\n",
    "**Pattern:** Deduplicate within batch by `feedback_id`; MERGE with insert-only semantics\n",
    "\n",
    "**Trigger:** Incremental batch job\n",
    "\n",
    "Notes: Feedback is immutable; SCD not required."
   ]
  },
  {
   "metadata": {},
   "cell_type": "code",
   "outputs": [],
   "execution_count": 0,
   "source": [
    "from delta.tables import DeltaTable\n",
    "from pyspark.sql import functions as F\n",
    "from pyspark.sql.types import MapType, StringType\n",
    "from pyspark.sql.window import Window\n",
    "\n",
    "from kflow.config import bronze_table, silver_paths\n",
    "from kflow.etl_utils import tag_timestamp_source, parse_to_utc\n",
    "from kflow.notebook_utils import init, show_history\n",
    "\n",
    "init()\n",
    "\n",
    "# Load table paths and names for the Feedback dataset\n",
    "S         = silver_paths(\"feedback\")\n",
    "SRC_TABLE = bronze_table(\"feedback\")\n",
    "TGT_TABLE = S.table\n",
    "\n",
    "spark.sql(\"SET spark.sql.session.timeZone=UTC\")"
   ]
  },
  {
   "cell_type": "code",
   "execution_count": 0,
   "metadata": {
    "application/vnd.databricks.v1+cell": {
     "cellMetadata": {
      "byteLimit": 2048000,
      "rowLimit": 10000
     },
     "inputWidgets": {},
     "nuid": "b6d756b0-011c-4939-b16c-13f5bf831d55",
     "showTitle": false,
     "tableResultSettingsMap": {},
     "title": ""
    }
   },
   "outputs": [],
   "source": [
    "# 1. Ensure Silver DB and Feedback table exist\n",
    "spark.sql(f\"CREATE DATABASE IF NOT EXISTS {S.db}\")\n",
    "\n",
    "spark.sql(\n",
    "    f\"\"\"\n",
    "    CREATE TABLE IF NOT EXISTS {TGT_TABLE} (\n",
    "        feedback_id        STRING  NOT NULL,\n",
    "        provider_id        STRING,\n",
    "        timestamp          TIMESTAMP,\n",
    "        timestamp_source   STRING,\n",
    "        visit_id           STRING,\n",
    "        satisfaction_score INT,\n",
    "        comments           STRING,\n",
    "        source             STRING,\n",
    "        tags               ARRAY<STRING>,\n",
    "        metadata           MAP<STRING,STRING>,\n",
    "        _ingest_ts         TIMESTAMP,\n",
    "        _source_file       STRING,\n",
    "        _batch_id          STRING\n",
    "    ) USING DELTA\n",
    "    LOCATION '{S.path}'\n",
    "    \"\"\"\n",
    ")"
   ]
  },
  {
   "metadata": {},
   "cell_type": "code",
   "outputs": [],
   "execution_count": null,
   "source": [
    "%md\n",
    "### Timezone handling in Silver (UTC as the canonical event time)\n",
    "\n",
    "**Assumption.** Each feedback record includes an ISO-8601 timestamp with an explicit offset or `Z`. Bronze stores the raw string as received for traceability.\n",
    "\n",
    "**Processing.** Silver pins the Spark session to UTC and parses the raw string to a `TIMESTAMP`. The result is the exact UTC instant; Daylight Saving and geography are handled by the embedded offset. We also add `timestamp_source` to record whether the original string included an offset (`\"offset\"`) or not (`\"naive\"`).\n",
    "\n",
    "**Monitoring.** The job does not fail on naive values. The `timestamp_source` flag makes them visible so we can track, alert, or clean if needed.\n",
    "\n",
    "**Local time.** When a report needs local clock time, derive it at read time with `from_utc_timestamp(timestamp, <iana_zone>)` once a reliable zone attribute is available. Storage and compute remain in UTC.\n"
   ]
  },
  {
   "metadata": {},
   "cell_type": "code",
   "outputs": [],
   "execution_count": 0,
   "source": [
    "# 2. Load Bronze records and prepare deduplicated batch\n",
    "bronze_df = (\n",
    "    spark.table(SRC_TABLE)\n",
    "         .filter(F.col(\"feedback_id\").isNotNull())\n",
    ")\n",
    "\n",
    "# Add metadata map first\n",
    "base_src = bronze_df.withColumn(\n",
    "    \"metadata\",\n",
    "    F.from_json(\"metadata_json\", MapType(StringType(), StringType()))\n",
    ")\n",
    "\n",
    "# Derive timezone provenance before parsing (inspects the raw string)\n",
    "base_src = tag_timestamp_source(base_src, ts_col=\"timestamp\")   # adds 'timestamp_source' = 'offset'|'naive'\n",
    "\n",
    "# Parse to UTC TIMESTAMP (session pinned to UTC above)\n",
    "base_src = parse_to_utc(base_src, ts_col=\"timestamp\")\n",
    "\n",
    "# Project final columns\n",
    "base_src = base_src.select(\n",
    "    \"feedback_id\",\n",
    "    \"provider_id\",\n",
    "    \"timestamp\",          # canonical UTC instant\n",
    "    \"timestamp_source\",   # 'offset' or 'naive' provenance\n",
    "    \"visit_id\",\n",
    "    \"satisfaction_score\",\n",
    "    \"source\",\n",
    "    \"tags\",\n",
    "    \"metadata\",\n",
    "    \"_ingest_ts\",\n",
    "    \"_source_file\",\n",
    "    \"_batch_id\"\n",
    ")\n",
    "\n",
    "# Retain only the latest version per feedback_id in this micro-batch\n",
    "w_latest = Window.partitionBy(\"feedback_id\").orderBy(\n",
    "      F.col(\"timestamp\").desc_nulls_last(),\n",
    "      F.col(\"_ingest_ts\").desc_nulls_last()\n",
    ")\n",
    "\n",
    "deduped_df = (\n",
    "    base_src\n",
    "      .withColumn(\"_rn\", F.row_number().over(w_latest))\n",
    "      .filter(F.col(\"_rn\") == 1)\n",
    "      .drop(\"_rn\")\n",
    ")\n",
    "\n",
    "# Final DataFrame used in MERGE\n",
    "latest_df = deduped_df"
   ]
  },
  {
   "cell_type": "code",
   "execution_count": 0,
   "metadata": {
    "application/vnd.databricks.v1+cell": {
     "cellMetadata": {
      "byteLimit": 2048000,
      "rowLimit": 10000
     },
     "inputWidgets": {},
     "nuid": "34535a61-fe5d-4291-80cb-d190de993263",
     "showTitle": false,
     "tableResultSettingsMap": {},
     "title": ""
    }
   },
   "outputs": [],
   "source": [
    "# 3. MERGE (insert) new feedback records into Silver table\n",
    "\n",
    "# Refresh so the newly created table is visible to the engine\n",
    "spark.sql(f\"REFRESH TABLE {TGT_TABLE}\")\n",
    "\n",
    "(\n",
    "    DeltaTable.forPath(spark, S.path)\n",
    "              .alias(\"t\")\n",
    "              .merge(latest_df.alias(\"s\"), \"t.feedback_id = s.feedback_id\")\n",
    "              .whenNotMatchedInsertAll()\n",
    "              .execute()\n",
    ")"
   ]
  },
  {
   "cell_type": "code",
   "execution_count": 0,
   "metadata": {
    "application/vnd.databricks.v1+cell": {
     "cellMetadata": {
      "byteLimit": 2048000,
      "rowLimit": 10000
     },
     "inputWidgets": {},
     "nuid": "d346df86-4858-46a2-9bb1-18ec025a444f",
     "showTitle": false,
     "tableResultSettingsMap": {},
     "title": ""
    }
   },
   "outputs": [],
   "source": [
    "# 4. Verify Silver Feedback table row count and preview records.\n",
    "df = spark.table(TGT_TABLE)\n",
    "print(f\"Silver Feedback row count: {df.count():,}\")\n",
    "display(df.orderBy(F.col(\"_ingest_ts\").desc()).limit(5))\n",
    "show_history(S.path)"
   ]
  }
 ],
 "metadata": {
  "application/vnd.databricks.v1+notebook": {
   "computePreferences": null,
   "dashboards": [],
   "environmentMetadata": {
    "base_environment": "",
    "environment_version": "2"
   },
   "inputWidgetPreferences": null,
   "language": "python",
   "notebookMetadata": {
    "pythonIndentUnit": 4
   },
   "notebookName": "silver_feedback_batch_append",
   "widgets": {}
  },
  "language_info": {
   "name": "python"
  }
 },
 "nbformat": 4,
 "nbformat_minor": 0
}
