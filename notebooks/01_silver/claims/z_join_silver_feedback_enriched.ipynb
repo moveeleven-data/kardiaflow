{
 "cells": [
  {
   "metadata": {},
   "cell_type": "code",
   "outputs": [],
   "execution_count": null,
   "source": [
    "%md\n",
    "### Kardiaflow - Silver Feedback Enriched\n",
    "\n",
    "**Source:** Snapshot join of Silver feedback with current Silver providers\n",
    "\n",
    "**Target:** `kardia_silver.silver_feedback_enriched`\n",
    "\n",
    "**Pattern:** LEFT JOIN from feedback to SCD2 providers, keeping only `is_current = TRUE` row\n",
    "\n",
    "**Trigger:** CTAS; rerun after any update to feedback or providers\n",
    "\n",
    "Notes: LEFT JOIN preserves all feedback rows, even if provider record is missing."
   ]
  },
  {
   "metadata": {},
   "cell_type": "code",
   "outputs": [],
   "execution_count": null,
   "source": [
    "from kflow.notebook_utils import init\n",
    "\n",
    "init()"
   ]
  },
  {
   "metadata": {},
   "cell_type": "code",
   "outputs": [],
   "execution_count": 0,
   "source": [
    "%sql\n",
    "-- 1. Ensure Silver DB exists\n",
    "CREATE DATABASE IF NOT EXISTS kardia_silver;\n",
    "USE kardia_silver;"
   ]
  },
  {
   "cell_type": "code",
   "execution_count": 0,
   "metadata": {
    "application/vnd.databricks.v1+cell": {
     "cellMetadata": {
      "byteLimit": 2048000,
      "implicitDf": true,
      "rowLimit": 10000
     },
     "inputWidgets": {},
     "nuid": "9f73a614-a9eb-4918-aca5-b4cc16681789",
     "showTitle": false,
     "tableResultSettingsMap": {},
     "title": ""
    }
   },
   "outputs": [],
   "source": [
    "%sql\n",
    "-- 2. Join feedback to current provider attributes (no CTE – inline subquery)\n",
    "CREATE OR REPLACE TABLE silver_feedback_enriched AS\n",
    "WITH current_providers AS (\n",
    "  SELECT provider_id,\n",
    "         provider_specialty,\n",
    "         provider_location\n",
    "  FROM   kardia_silver.silver_providers\n",
    "  WHERE  is_current = TRUE\n",
    ")\n",
    "SELECT\n",
    "    f.feedback_id,\n",
    "    f.provider_id,\n",
    "    cp.provider_specialty,\n",
    "    cp.provider_location,\n",
    "    f.timestamp,\n",
    "    f.timestamp_source,\n",
    "    f.visit_id,\n",
    "    f.satisfaction_score,\n",
    "    f.source,\n",
    "    f.tags,\n",
    "    f.metadata,\n",
    "    f._ingest_ts,\n",
    "    f._source_file,\n",
    "    f._batch_id,\n",
    "    CASE WHEN cp.provider_id IS NULL THEN true ELSE false END AS provider_missing,\n",
    "    CASE WHEN e.encounter_id IS NULL THEN true ELSE false END AS encounter_missing\n",
    "FROM kardia_silver.silver_feedback f\n",
    "LEFT JOIN current_providers cp\n",
    "  ON f.provider_id = cp.provider_id\n",
    "LEFT JOIN kardia_silver.silver_encounters e\n",
    "  ON f.visit_id = e.encounter_id;"
   ]
  },
  {
   "metadata": {},
   "cell_type": "code",
   "outputs": [],
   "execution_count": null,
   "source": [
    "-- 3) Orphan feedback (missing encounter or provider)\n",
    "\n",
    "WITH provider_keys AS (\n",
    "    SELECT DISTINCT provider_id\n",
    "    FROM kardia_silver.silver_providers\n",
    ")\n",
    "SELECT SUM(CASE WHEN e.encounter_id IS NULL THEN 1 ELSE 0 END) AS missing_encounter,\n",
    "       SUM(CASE WHEN pk.provider_id IS NULL THEN 1 ELSE 0 END) AS missing_provider\n",
    "FROM kardia_silver.silver_feedback f\n",
    "LEFT JOIN kardia_silver.silver_encounters e\n",
    "       ON f.visit_id = e.encounter_id\n",
    "LEFT JOIN provider_keys pk\n",
    "       ON f.provider_id = pk.provider_id;"
   ]
  },
  {
   "cell_type": "code",
   "execution_count": 0,
   "metadata": {
    "application/vnd.databricks.v1+cell": {
     "cellMetadata": {
      "byteLimit": 2048000,
      "implicitDf": true,
      "rowLimit": 10000
     },
     "inputWidgets": {},
     "nuid": "9b664a2d-08af-4039-b9b5-3d46b0e9c8a3",
     "showTitle": false,
     "tableResultSettingsMap": {},
     "title": ""
    }
   },
   "outputs": [],
   "source": [
    "%sql\n",
    "-- 3. Preview: Most recent 5 feedback records\n",
    "SELECT *\n",
    "FROM kardia_silver.silver_feedback_enriched\n",
    "ORDER BY timestamp DESC\n",
    "LIMIT 5;"
   ]
  }
 ],
 "metadata": {
  "application/vnd.databricks.v1+notebook": {
   "computePreferences": null,
   "dashboards": [],
   "environmentMetadata": {
    "base_environment": "",
    "environment_version": "2"
   },
   "inputWidgetPreferences": null,
   "language": "python",
   "notebookMetadata": {
    "mostRecentlyExecutedCommandWithImplicitDF": {
     "commandId": 6557084226338549,
     "dataframes": [
      "_sqldf"
     ]
    },
    "pythonIndentUnit": 4
   },
   "notebookName": "z_join_silver_feedback_enriched",
   "widgets": {}
  },
  "language_info": {
   "name": "python"
  }
 },
 "nbformat": 4,
 "nbformat_minor": 0
}
