{
 "cells": [
  {
   "metadata": {},
   "cell_type": "code",
   "outputs": [],
   "execution_count": null,
   "source": [
    "%md\n",
    "### Kardiaflow - Silver Providers (SCD2)\n",
    "\n",
    "**Source:** `kardia_bronze.bronze_providers` (snapshot input with `_ingest_ts`)\n",
    "\n",
    "**Target:** `kardia_silver.silver_providers` (SCD2 with `is_current` flag)\n",
    "\n",
    "**Pattern:** Detect changes; close current row, insert new current row (SCD2)\n",
    "\n",
    "**Trigger:** Incremental batch\n",
    "\n",
    "**Description:** The Silver layer is where raw data becomes trustworthy and usable. Here we enforce constraints,\n",
    "standardize types, rename fields into consistent names, mask PHI, and apply deduplication, SCD1/SCD2 handling, and\n",
    "timezone normalization. In dbt, staging handles renaming/typing while refined handles business rules, making lineage and documentation transparent in its SQL-first world. In Kardiaflow, we combine both in Silver, following Delta Lake convention where Silver covers adaptation and core business logic.\n",
    "\n",
    "Notes: Tracks provider specialty/location changes over time."
   ]
  },
  {
   "metadata": {},
   "cell_type": "code",
   "outputs": [],
   "execution_count": 0,
   "source": [
    "from delta.tables import DeltaTable\n",
    "from pyspark.sql import functions as F\n",
    "from pyspark.sql.window import Window\n",
    "\n",
    "from kflow.config import bronze_table, silver_paths\n",
    "from kflow.notebook_utils import init, show_history\n",
    "\n",
    "init()\n",
    "\n",
    "# Load table paths and names for the Providers dataset\n",
    "S         = silver_paths(\"providers\")\n",
    "SRC_TABLE = bronze_table(\"providers\")\n",
    "TGT_TABLE = S.table"
   ]
  },
  {
   "cell_type": "code",
   "execution_count": 0,
   "metadata": {
    "application/vnd.databricks.v1+cell": {
     "cellMetadata": {
      "byteLimit": 2048000,
      "rowLimit": 10000
     },
     "inputWidgets": {},
     "nuid": "547797b1-0ae0-426b-9bc5-e9948b3acf17",
     "showTitle": false,
     "tableResultSettingsMap": {},
     "title": ""
    }
   },
   "outputs": [],
   "source": [
    "# 1. Ensure Silver DB and Providers table exist\n",
    "spark.sql(f\"CREATE DATABASE IF NOT EXISTS {S.db}\")\n",
    "\n",
    "spark.sql(\n",
    "    f\"\"\"\n",
    "    CREATE TABLE IF NOT EXISTS {TGT_TABLE} (\n",
    "        provider_id         STRING  NOT NULL,\n",
    "        provider_specialty  STRING,\n",
    "        provider_location   STRING,\n",
    "        eff_start_ts        TIMESTAMP,\n",
    "        eff_end_ts          TIMESTAMP,\n",
    "        is_current          BOOLEAN,\n",
    "        _ingest_ts          TIMESTAMP,\n",
    "        _batch_id           STRING,\n",
    "        _source_file        STRING\n",
    "    ) USING DELTA\n",
    "    LOCATION '{S.path}'\n",
    "    \"\"\"\n",
    ")"
   ]
  },
  {
   "cell_type": "code",
   "execution_count": 0,
   "metadata": {
    "application/vnd.databricks.v1+cell": {
     "cellMetadata": {
      "byteLimit": 2048000,
      "rowLimit": 10000
     },
     "inputWidgets": {},
     "nuid": "3574ce08-e4d3-4084-9790-e95ebc96d917",
     "showTitle": false,
     "tableResultSettingsMap": {},
     "title": ""
    }
   },
   "outputs": [],
   "source": [
    "# 2. Build the latest snapshot per ProviderID from Bronze\n",
    "bronze = (\n",
    "    spark.table(SRC_TABLE)\n",
    "         .filter(F.col(\"ProviderID\").isNotNull())\n",
    ")\n",
    "\n",
    "w_latest = (\n",
    "    Window.partitionBy(\"ProviderID\")\n",
    "          .orderBy(F.col(\"_ingest_ts\").desc_nulls_last())\n",
    ")\n",
    "\n",
    "# Identify the most recent record per provider_id using ingest timestamp\n",
    "deduped_df = (\n",
    "    bronze\n",
    "      .withColumn(\"_rn\", F.row_number().over(w_latest))\n",
    "      .filter(F.col(\"_rn\") == 1)\n",
    "      .select(\n",
    "          F.col(\"ProviderID\").alias(\"provider_id\"),\n",
    "          F.col(\"ProviderSpecialty\").alias(\"provider_specialty\"),\n",
    "          F.col(\"ProviderLocation\").alias(\"provider_location\"),\n",
    "          F.col(\"_ingest_ts\"),\n",
    "          F.col(\"_batch_id\"),\n",
    "          F.col(\"_source_file\"),\n",
    "      )\n",
    ")\n",
    "\n",
    "# Final DataFrame used in MERGE (add SCD-2 columns)\n",
    "latest_df = (\n",
    "    deduped_df\n",
    "      .withColumn(\"eff_start_ts\", F.col(\"_ingest_ts\"))\n",
    "      .withColumn(\"eff_end_ts\",   F.lit(None).cast(\"timestamp\"))\n",
    "      .withColumn(\"is_current\",   F.lit(True))\n",
    ")"
   ]
  },
  {
   "metadata": {},
   "cell_type": "code",
   "outputs": [],
   "execution_count": null,
   "source": [
    "# 3. Define what counts as a change (SCD-2 tracked fields)\n",
    "PROVIDER_CHANGE_CONDITION = (\n",
    "    \"NOT (t.provider_specialty <=> s.provider_specialty) OR \"\n",
    "    \"NOT (t.provider_location  <=> s.provider_location)\"\n",
    ")"
   ]
  },
  {
   "cell_type": "code",
   "execution_count": 0,
   "metadata": {
    "application/vnd.databricks.v1+cell": {
     "cellMetadata": {
      "byteLimit": 2048000,
      "rowLimit": 10000
     },
     "inputWidgets": {},
     "nuid": "ee6e793f-56e2-4032-9598-80f0a4a47784",
     "showTitle": false,
     "tableResultSettingsMap": {},
     "title": ""
    }
   },
   "outputs": [],
   "source": [
    "# 4. Perform SCD Type 2 MERGE\n",
    "#    Track history for changes in specialty or location\n",
    "\n",
    "# Refresh so the newly created table is visible to the engine\n",
    "spark.sql(f\"REFRESH TABLE {TGT_TABLE}\")\n",
    "\n",
    "# Perform the SCD-2 upsert\n",
    "(\n",
    "    DeltaTable.forPath(spark, S.path)\n",
    "              .alias(\"t\")\n",
    "              .merge(\n",
    "                  latest_df.alias(\"s\"),\n",
    "                  \"t.provider_id = s.provider_id AND t.is_current = TRUE\"\n",
    "              )\n",
    "\n",
    "    # CASE 1: Close rows where tracked fields changed by setting eff_end_ts and is_current = FALSE.\n",
    "              .whenMatchedUpdate(\n",
    "                 condition=PROVIDER_CHANGE_CONDITION,\n",
    "                 set={\n",
    "                     \"eff_end_ts\": F.col(\"s.eff_start_ts\"),\n",
    "                     \"is_current\": F.lit(False),\n",
    "                 },\n",
    "              )\n",
    "              .execute()\n",
    ")\n",
    "# CASE 2: Insert a new current row when:\n",
    "#    - the provider is brand new (no match exists), or\n",
    "#    - the provider just changed and their previous row was closed in Step 1\n",
    "(\n",
    "    DeltaTable.forPath(spark, S.path)\n",
    "              .alias(\"t\")\n",
    "              .merge(\n",
    "                  latest_df.alias(\"s\"),\n",
    "                  \"t.provider_id = s.provider_id AND t.is_current = TRUE\"\n",
    "              )\n",
    "              .whenNotMatchedInsertAll()\n",
    "              .execute()\n",
    ")"
   ]
  },
  {
   "cell_type": "code",
   "execution_count": 0,
   "metadata": {
    "application/vnd.databricks.v1+cell": {
     "cellMetadata": {
      "byteLimit": 2048000,
      "rowLimit": 10000
     },
     "inputWidgets": {},
     "nuid": "328d38cf-8186-4559-9ca0-beabe448e213",
     "showTitle": false,
     "tableResultSettingsMap": {},
     "title": ""
    }
   },
   "outputs": [],
   "source": [
    "# 5. Verify Silver Providers SCD2 output\n",
    "df = spark.table(TGT_TABLE)\n",
    "print(f\"Silver Providers row count: {df.count():,}\")\n",
    "display(df.orderBy(F.col(\"_ingest_ts\").desc_nulls_last()).limit(5))\n",
    "show_history(S.path)"
   ]
  }
 ],
 "metadata": {
  "application/vnd.databricks.v1+notebook": {
   "computePreferences": null,
   "dashboards": [],
   "environmentMetadata": {
    "base_environment": "",
    "environment_version": "2"
   },
   "inputWidgetPreferences": null,
   "language": "python",
   "notebookMetadata": {
    "mostRecentlyExecutedCommandWithImplicitDF": {
     "commandId": 4880559092059771,
     "dataframes": [
      "_sqldf"
     ]
    },
    "pythonIndentUnit": 4
   },
   "notebookName": "silver_providers_scd2_batch",
   "widgets": {}
  },
  "language_info": {
   "name": "python"
  }
 },
 "nbformat": 4,
 "nbformat_minor": 0
}
