{
 "cells": [
  {
   "metadata": {},
   "cell_type": "code",
   "outputs": [],
   "execution_count": null,
   "source": [
    "%md\n",
    "### Kardiaflow - Gold: Claim Metrics\n",
    "\n",
    "**Source:** `kardia_silver.silver_claims_enriched`\n",
    "\n",
    "**Targets:**\n",
    "`gold_claim_approval_by_specialty`\n",
    "`gold_claim_denial_breakdown`\n",
    "`gold_high_cost_procedures`\n",
    "\n",
    "**Trigger:** Full snapshot overwrite each run (simple for small datasets).\n",
    "\n",
    "**Purpose:** Reports approval rates by specialty, denial distributions by diagnosis, and high-cost procedure outliers."
   ]
  },
  {
   "metadata": {},
   "cell_type": "code",
   "outputs": [],
   "execution_count": null,
   "source": [
    "from kflow.config import GOLD_DB, GOLD_DIR\n",
    "from kflow.notebook_utils import init\n",
    "\n",
    "init()"
   ]
  },
  {
   "metadata": {},
   "cell_type": "code",
   "outputs": [],
   "execution_count": 0,
   "source": [
    "# Ensure Gold DB exists\n",
    "spark.sql(f\"CREATE DATABASE IF NOT EXISTS {GOLD_DB}\")\n",
    "spark.sql(f\"USE {GOLD_DB}\")"
   ]
  },
  {
   "cell_type": "code",
   "execution_count": 0,
   "metadata": {
    "application/vnd.databricks.v1+cell": {
     "cellMetadata": {
      "byteLimit": 2048000,
      "implicitDf": true,
      "rowLimit": 10000
     },
     "inputWidgets": {},
     "nuid": "9df868cd-35d0-46f5-befd-84a3bd3a3898",
     "showTitle": false,
     "tableResultSettingsMap": {},
     "title": ""
    }
   },
   "outputs": [],
   "source": [
    "%sql\n",
    "-- Approval rates by specialty\n",
    "CREATE OR REPLACE TABLE gold_claim_approval_by_specialty\n",
    "USING DELTA\n",
    "LOCATION '${GOLD_DIR}/gold_claim_approval_by_specialty'\n",
    "AS\n",
    "WITH approval_counts AS (\n",
    "  SELECT\n",
    "    COALESCE(provider_specialty, 'Unknown') AS provider_specialty,\n",
    "    COUNT(*) AS total_claims,\n",
    "    SUM(CASE WHEN claim_status = 'Approved' THEN 1 ELSE 0 END) AS approved_count\n",
    "  FROM kardia_silver.silver_claims_enriched\n",
    "  GROUP BY COALESCE(provider_specialty, 'Unknown')\n",
    ")\n",
    "\n",
    "SELECT\n",
    "  provider_specialty,\n",
    "  total_claims,\n",
    "  approved_count,\n",
    "  ROUND(approved_count / CAST(total_claims AS DOUBLE), 4) AS approval_rate\n",
    "FROM approval_counts;"
   ]
  },
  {
   "cell_type": "code",
   "execution_count": 0,
   "metadata": {
    "application/vnd.databricks.v1+cell": {
     "cellMetadata": {
      "byteLimit": 2048000,
      "implicitDf": true,
      "rowLimit": 10000
     },
     "inputWidgets": {},
     "nuid": "109816ac-80f8-44a0-bd5f-01c03da146d6",
     "showTitle": false,
     "tableResultSettingsMap": {},
     "title": ""
    }
   },
   "outputs": [],
   "source": [
    "%sql  \n",
    "-- Denial breakdown by specialty\n",
    "CREATE OR REPLACE TABLE gold_claim_denial_breakdown\n",
    "USING DELTA\n",
    "LOCATION '${GOLD_DIR}/gold_claim_denial_breakdown'\n",
    "AS\n",
    "WITH denial_counts AS (\n",
    "  SELECT\n",
    "    COALESCE(provider_specialty, 'Unknown') AS provider_specialty,\n",
    "    COALESCE(diagnosis_code, 'Unknown')     AS diagnosis_code,\n",
    "    COUNT(*)                                AS denial_count\n",
    "  FROM kardia_silver.silver_claims_enriched\n",
    "  WHERE claim_status = 'Denied'\n",
    "  GROUP BY\n",
    "    COALESCE(provider_specialty, 'Unknown'),\n",
    "    COALESCE(diagnosis_code, 'Unknown')\n",
    "),\n",
    "\n",
    "denial_share AS (\n",
    "  SELECT\n",
    "    provider_specialty,\n",
    "    diagnosis_code,\n",
    "    denial_count,\n",
    "    ROUND(\n",
    "      denial_count\n",
    "      / CAST(SUM(denial_count) OVER (PARTITION BY provider_specialty) AS DOUBLE),\n",
    "      4\n",
    "    ) AS denial_pct\n",
    "  FROM denial_counts\n",
    ")\n",
    "\n",
    "SELECT *\n",
    "FROM denial_share\n",
    "ORDER BY provider_specialty, denial_pct DESC, diagnosis_code;"
   ]
  },
  {
   "cell_type": "code",
   "execution_count": 0,
   "metadata": {
    "application/vnd.databricks.v1+cell": {
     "cellMetadata": {
      "byteLimit": 2048000,
      "implicitDf": true,
      "rowLimit": 10000
     },
     "inputWidgets": {},
     "nuid": "0d60ce34-041d-4153-b479-c37eea268e55",
     "showTitle": false,
     "tableResultSettingsMap": {},
     "title": ""
    }
   },
   "outputs": [],
   "source": [
    "%sql  \n",
    "-- Top 10 high-cost procedures by avg claim amount (approved-only, min frequency, explicit Delta)\n",
    "CREATE OR REPLACE TABLE gold_high_cost_procedures\n",
    "USING DELTA\n",
    "LOCATION '${GOLD_DIR}/gold_high_cost_procedures'\n",
    "AS\n",
    "WITH approved_claims AS (\n",
    "  SELECT\n",
    "    procedure_code,\n",
    "    claim_amount\n",
    "  FROM kardia_silver.silver_claims_enriched\n",
    "  WHERE claim_status = 'Approved'\n",
    "),\n",
    "\n",
    "procedure_stats AS (\n",
    "  SELECT\n",
    "    procedure_code,\n",
    "    COUNT(*) AS procedure_count,\n",
    "    ROUND(AVG(claim_amount), 2) AS avg_claim_amount\n",
    "  FROM approved_claims\n",
    "  GROUP BY procedure_code\n",
    "  HAVING COUNT(*) >= 3\n",
    ")\n",
    "\n",
    "SELECT\n",
    "  procedure_code,\n",
    "  avg_claim_amount,\n",
    "  procedure_count\n",
    "FROM procedure_stats\n",
    "ORDER BY avg_claim_amount DESC\n",
    "LIMIT 10;"
   ]
  },
  {
   "cell_type": "code",
   "execution_count": 0,
   "metadata": {
    "application/vnd.databricks.v1+cell": {
     "cellMetadata": {
      "byteLimit": 2048000,
      "implicitDf": true,
      "rowLimit": 10000
     },
     "inputWidgets": {},
     "nuid": "8764d646-2677-4289-9602-988e685785fe",
     "showTitle": false,
     "tableResultSettingsMap": {},
     "title": ""
    }
   },
   "outputs": [],
   "source": [
    "%sql  \n",
    "-- Preview: approval rates by specialty  \n",
    "SELECT *\n",
    "FROM gold_claim_approval_by_specialty\n",
    "ORDER BY approval_rate DESC\n",
    "LIMIT 10;"
   ]
  },
  {
   "cell_type": "code",
   "execution_count": 0,
   "metadata": {
    "application/vnd.databricks.v1+cell": {
     "cellMetadata": {
      "byteLimit": 2048000,
      "implicitDf": true,
      "rowLimit": 10000
     },
     "inputWidgets": {},
     "nuid": "88488586-c8fc-499f-8208-e3fc9199c115",
     "showTitle": false,
     "tableResultSettingsMap": {
      "0": {
       "dataGridStateBlob": "{\"version\":1,\"tableState\":{\"columnPinning\":{\"left\":[\"#row_number#\"],\"right\":[]},\"columnSizing\":{},\"columnVisibility\":{}},\"settings\":{\"columns\":{}},\"syncTimestamp\":1753395984984}",
       "filterBlob": null,
       "queryPlanFiltersBlob": null,
       "tableResultIndex": 0
      }
     },
     "title": ""
    }
   },
   "outputs": [],
   "source": [
    "%sql  \n",
    "-- Preview: denial breakdown  \n",
    "SELECT provider_specialty,\n",
    "       sum(denial_count) as total_denial_count\n",
    "FROM gold_claim_denial_breakdown\n",
    "GROUP BY provider_specialty\n",
    "ORDER BY total_denial_count DESC\n",
    "LIMIT 10;"
   ]
  },
  {
   "cell_type": "code",
   "execution_count": 0,
   "metadata": {
    "application/vnd.databricks.v1+cell": {
     "cellMetadata": {
      "byteLimit": 2048000,
      "implicitDf": true,
      "rowLimit": 10000
     },
     "inputWidgets": {},
     "nuid": "def99c48-2a20-42c0-a0e3-b026728724b2",
     "showTitle": false,
     "tableResultSettingsMap": {},
     "title": ""
    }
   },
   "outputs": [],
   "source": [
    "%sql  \n",
    "-- Preview: high‑cost procedures  \n",
    "SELECT *\n",
    "FROM gold_high_cost_procedures\n",
    "ORDER BY avg_claim_amount DESC\n",
    "LIMIT 10;"
   ]
  }
 ],
 "metadata": {
  "application/vnd.databricks.v1+notebook": {
   "computePreferences": null,
   "dashboards": [],
   "environmentMetadata": {
    "base_environment": "",
    "environment_version": "2"
   },
   "inputWidgetPreferences": null,
   "language": "python",
   "notebookMetadata": {
    "mostRecentlyExecutedCommandWithImplicitDF": {
     "commandId": 6557084226338565,
     "dataframes": [
      "_sqldf"
     ]
    },
    "pythonIndentUnit": 4
   },
   "notebookName": "gold_claim_anomalies",
   "widgets": {}
  },
  "language_info": {
   "name": "python"
  }
 },
 "nbformat": 4,
 "nbformat_minor": 0
}
