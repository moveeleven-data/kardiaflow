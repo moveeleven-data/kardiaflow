{
 "cells": [
  {
   "metadata": {},
   "cell_type": "code",
   "outputs": [],
   "execution_count": null,
   "source": [
    "%md\n",
    "### Kardiaflow - Bronze Encounters Auto Loader\n",
    "\n",
    "**Source:** Raw Avro files in ADLS\n",
    "\n",
    "**Target:** `kardia_bronze.bronze_encounters` (CDF enabled)\n",
    "\n",
    "**Trigger:** Configurable via job param `mode`:\n",
    "  - `batch` → one-time load of all files\n",
    "  - `stream` → continuous 30s micro-batches\n",
    "\n",
    "Notes:\n",
    "- Avro is self-describing. We rely on schema inference and enforce types in Silver.\n",
    "- Separate checkpoint directories keep batch/stream states isolated."
   ]
  },
  {
   "metadata": {},
   "cell_type": "code",
   "outputs": [],
   "execution_count": 0,
   "source": [
    "import pyspark.sql.functions as F\n",
    "\n",
    "from kflow.config import BRONZE_DB, bronze_paths\n",
    "from kflow.etl_utils import add_audit_cols\n",
    "from kflow.notebook_utils import init\n",
    "\n",
    "# 1. Initialize notebook environment (auth and catalog)\n",
    "init()\n",
    "\n",
    "# Load table paths and names for the Encounters dataset (paths, table, schema, etc.)\n",
    "P = bronze_paths(\"encounters\")\n",
    "BRONZE_TABLE = P.table"
   ]
  },
  {
   "metadata": {},
   "cell_type": "code",
   "outputs": [],
   "execution_count": null,
   "source": [
    "# 2. Retrieve runtime mode from job widget: \"batch\" (default) or \"stream\"\n",
    "#  - \"batch\" mode loads all available data and stops\n",
    "#  - \"stream\" mode runs continuous 30s micro-batches\n",
    "# Mode is passed as a job parameter named \"mode\"\n",
    "try:\n",
    "    dbutils.widgets.dropdown(\"mode\", \"batch\", [\"batch\", \"stream\"])\n",
    "except:\n",
    "    pass\n",
    "MODE = dbutils.widgets.get(\"mode\") if \"dbutils\" in globals() else \"batch\"\n",
    "IS_BATCH = (MODE == \"batch\")\n",
    "\n",
    "# Use a separate checkpoint directory per mode to keep batch and stream state isolated\n",
    "CHECKPOINT = f\"{P.checkpoint}/{MODE}\""
   ]
  },
  {
   "cell_type": "code",
   "execution_count": 0,
   "metadata": {
    "application/vnd.databricks.v1+cell": {
     "cellMetadata": {
      "byteLimit": 2048000,
      "rowLimit": 10000
     },
     "inputWidgets": {},
     "nuid": "9c0259c7-a143-4079-ad8c-8fcf639121bd",
     "showTitle": false,
     "tableResultSettingsMap": {},
     "title": ""
    }
   },
   "outputs": [],
   "source": [
    "# 3. Ensure Bronze DB and Encounters table exist\n",
    "spark.sql(f\"CREATE DATABASE IF NOT EXISTS {BRONZE_DB}\")\n",
    "\n",
    "spark.sql(\n",
    "    f\"\"\"\n",
    "    CREATE TABLE IF NOT EXISTS {BRONZE_TABLE}\n",
    "    USING DELTA\n",
    "    COMMENT 'Bronze Avro ingest of Encounter records.'\n",
    "    LOCATION '{P.bronze}'\n",
    "    TBLPROPERTIES (delta.enableChangeDataFeed = true)\n",
    "    \"\"\"\n",
    ")"
   ]
  },
  {
   "cell_type": "code",
   "execution_count": 0,
   "metadata": {
    "application/vnd.databricks.v1+cell": {
     "cellMetadata": {
      "byteLimit": 2048000,
      "rowLimit": 10000
     },
     "inputWidgets": {},
     "nuid": "d6aefc57-ee55-433a-89e7-2d2945f63119",
     "showTitle": false,
     "tableResultSettingsMap": {},
     "title": ""
    }
   },
   "outputs": [],
   "source": [
    "# 4. Define a streaming pipeline using Auto Loader\n",
    "reader = (\n",
    "    spark.readStream.format(\"cloudFiles\")\n",
    "         .option(\"cloudFiles.format\", \"avro\")\n",
    "         .option(\"cloudFiles.schemaLocation\", P.schema)\n",
    "         .option(\"cloudFiles.includeExistingFiles\", \"true\")\n",
    "         .option(\"badRecordsPath\", P.bad)\n",
    "         .load(P.raw)\n",
    "         # Drop any records missing required fields\n",
    "         .filter(\n",
    "             F.col(\"ID\").isNotNull() &\n",
    "             F.col(\"PATIENT\").isNotNull()\n",
    "         )\n",
    "         # Add ingest timestamp, source file, batch ID\n",
    "         .transform(add_audit_cols)\n",
    ")\n",
    "\n",
    "writer = (\n",
    "    reader.writeStream\n",
    "          .option(\"checkpointLocation\", CHECKPOINT)\n",
    "          .option(\"mergeSchema\", \"true\")\n",
    ")"
   ]
  },
  {
   "metadata": {},
   "cell_type": "code",
   "outputs": [],
   "execution_count": null,
   "source": [
    "# 5. Run as either batch or stream depending on runtime mode\n",
    "#    Toggle trigger mode via job param \"mode\"\n",
    "if IS_BATCH:\n",
    "    # Batch mode: process all available files once and exit\n",
    "    query = writer.trigger(availableNow=True).toTable(BRONZE_TABLE)\n",
    "    print(f\"[batch] Wrote to {BRONZE_TABLE} with checkpoint={CHECKPOINT} …\")\n",
    "    query.awaitTermination()\n",
    "else:\n",
    "    # Streaming mode: run continuously every 30s\n",
    "    query = writer.trigger(processingTime=\"30 seconds\").toTable(BRONZE_TABLE)\n",
    "    print(f\"[live] Continuous 30s micro-batches to {BRONZE_TABLE} with checkpoint={CHECKPOINT}\")"
   ]
  }
 ],
 "metadata": {
  "application/vnd.databricks.v1+notebook": {
   "computePreferences": null,
   "dashboards": [],
   "environmentMetadata": {
    "base_environment": "",
    "environment_version": "2"
   },
   "inputWidgetPreferences": null,
   "language": "python",
   "notebookMetadata": {
    "mostRecentlyExecutedCommandWithImplicitDF": {
     "commandId": 6336542656291775,
     "dataframes": [
      "_sqldf"
     ]
    },
    "pythonIndentUnit": 4
   },
   "notebookName": "bronze_encounters_autoloader",
   "widgets": {}
  },
  "language_info": {
   "name": "python"
  }
 },
 "nbformat": 4,
 "nbformat_minor": 0
}
