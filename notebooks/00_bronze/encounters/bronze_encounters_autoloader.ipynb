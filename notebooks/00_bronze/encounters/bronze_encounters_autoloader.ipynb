{
 "cells": [
  {
   "cell_type": "code",
   "execution_count": 0,
   "metadata": {
    "application/vnd.databricks.v1+cell": {
     "cellMetadata": {
      "byteLimit": 2048000,
      "rowLimit": 10000
     },
     "inputWidgets": {},
     "nuid": "7ef4e400-f2e5-4cd5-87fd-ec449a6ad4a4",
     "showTitle": false,
     "tableResultSettingsMap": {},
     "title": ""
    },
    "jupyter": {
     "is_executing": true
    }
   },
   "outputs": [],
   "source": [
    "# bronze_encounters_autoloader.ipynb\n",
    "# SOURCE: Raw AVRO files in ADLS\n",
    "# TARGET: `kardia_bronze.bronze_encounters` (CDF)\n",
    "# TRIGGER: Batch or streaming (set mode via Job param); append to Bronze Encounters table\n",
    "# NOTE: For self‑describing formats like AVRO, we use schema inference and enforce types in Silver.\n",
    "\n",
    "# Optional library bootstrap for ephemeral jobs clusters\n",
    "%run ../../99_utilities/bootstrap_kflow\n",
    "\n",
    "import pyspark.sql.functions as F\n",
    "\n",
    "from kflow.auth_adls import ensure_adls_oauth\n",
    "from kflow.config import BRONZE_DB, bronze_paths\n",
    "from kflow.etl_utils import add_audit_cols\n",
    "\n",
    "# Configure Spark with ADLS OAuth credentials and return base ABFS path\n",
    "abfss_base = ensure_adls_oauth()\n",
    "\n",
    "# Set catalog to Hive Metastore (required when not using Unity Catalog)\n",
    "spark.sql(\"USE CATALOG hive_metastore\")\n",
    "\n",
    "# Load table paths and names for the Encounters dataset (paths, table, schema, etc.)\n",
    "P = bronze_paths(\"encounters\")\n",
    "BRONZE_TABLE = P.table"
   ]
  },
  {
   "metadata": {},
   "cell_type": "code",
   "outputs": [],
   "execution_count": null,
   "source": [
    "# Retrieve runtime mode from job widget: \"batch\" (default) or \"stream\"\n",
    "# - \"batch\" mode loads all available data and stops\n",
    "# - \"stream\" mode runs continuous 30s micro-batches\n",
    "# Mode is passed as a job parameter named \"mode\"\n",
    "try:\n",
    "    dbutils.widgets.dropdown(\"mode\", \"batch\", [\"batch\", \"stream\"])\n",
    "except:\n",
    "    pass\n",
    "MODE = dbutils.widgets.get(\"mode\") if \"dbutils\" in globals() else \"batch\"\n",
    "IS_BATCH = (MODE == \"batch\")\n",
    "\n",
    "# Use a separate checkpoint directory per mode to keep batch and stream state isolated\n",
    "CHECKPOINT = f\"{P.checkpoint}/{MODE}\""
   ]
  },
  {
   "cell_type": "code",
   "execution_count": 0,
   "metadata": {
    "application/vnd.databricks.v1+cell": {
     "cellMetadata": {
      "byteLimit": 2048000,
      "rowLimit": 10000
     },
     "inputWidgets": {},
     "nuid": "9c0259c7-a143-4079-ad8c-8fcf639121bd",
     "showTitle": false,
     "tableResultSettingsMap": {},
     "title": ""
    }
   },
   "outputs": [],
   "source": [
    "# 1. Ensure Bronze DB and Encounters table exist\n",
    "spark.sql(f\"CREATE DATABASE IF NOT EXISTS {BRONZE_DB}\")\n",
    "\n",
    "spark.sql(\n",
    "    f\"\"\"\n",
    "    CREATE TABLE IF NOT EXISTS {P.table}\n",
    "    USING DELTA\n",
    "    COMMENT 'Bronze Avro ingest of Encounter records.'\n",
    "    LOCATION '{P.bronze}'\n",
    "    TBLPROPERTIES (delta.enableChangeDataFeed = true)\n",
    "    \"\"\"\n",
    ")"
   ]
  },
  {
   "cell_type": "code",
   "execution_count": 0,
   "metadata": {
    "application/vnd.databricks.v1+cell": {
     "cellMetadata": {
      "byteLimit": 2048000,
      "rowLimit": 10000
     },
     "inputWidgets": {},
     "nuid": "d6aefc57-ee55-433a-89e7-2d2945f63119",
     "showTitle": false,
     "tableResultSettingsMap": {},
     "title": ""
    }
   },
   "outputs": [],
   "source": [
    "# 3. Define a streaming pipeline using Auto Loader\n",
    "reader = (\n",
    "    spark.readStream.format(\"cloudFiles\")\n",
    "         .option(\"cloudFiles.format\", \"avro\")\n",
    "         .option(\"cloudFiles.schemaLocation\", P.schema)\n",
    "         .option(\"cloudFiles.includeExistingFiles\", \"true\")\n",
    "         .option(\"badRecordsPath\", P.bad)\n",
    "         .load(P.raw)\n",
    "         # Drop any records missing required fields\n",
    "         .filter(\n",
    "             F.col(\"ID\").isNotNull() &\n",
    "             F.col(\"PATIENT\").isNotNull()\n",
    "         )\n",
    "         # Add ingest timestamp, source file, batch ID\n",
    "         .transform(add_audit_cols)\n",
    ")\n",
    "\n",
    "writer = (\n",
    "    reader.writeStream\n",
    "          .option(\"checkpointLocation\", CHECKPOINT)\n",
    "          .option(\"mergeSchema\", \"true\")\n",
    ")\n",
    "\n",
    "# Run as either batch or stream depending on runtime mode\n",
    "# Toggle trigger mode via job param \"mode\"\n",
    "if IS_BATCH:\n",
    "    # Batch mode: process all available files once and exit\n",
    "    q = writer.trigger(availableNow=True).toTable(P.table)\n",
    "    print(f\"[demo] Writing to {P.table} with checkpoint={CHECKPOINT} …\")\n",
    "    q.awaitTermination()\n",
    "else:\n",
    "    # Streaming mode: run continuously every 30s\n",
    "    q = writer.trigger(processingTime=\"30 seconds\").toTable(P.table)\n",
    "    print(f\"[live] Continuous 30s micro-batches to {P.table} with checkpoint={CHECKPOINT}\")"
   ]
  }
 ],
 "metadata": {
  "application/vnd.databricks.v1+notebook": {
   "computePreferences": null,
   "dashboards": [],
   "environmentMetadata": {
    "base_environment": "",
    "environment_version": "2"
   },
   "inputWidgetPreferences": null,
   "language": "python",
   "notebookMetadata": {
    "mostRecentlyExecutedCommandWithImplicitDF": {
     "commandId": 6336542656291775,
     "dataframes": [
      "_sqldf"
     ]
    },
    "pythonIndentUnit": 4
   },
   "notebookName": "bronze_encounters_autoloader",
   "widgets": {}
  },
  "language_info": {
   "name": "python"
  }
 },
 "nbformat": 4,
 "nbformat_minor": 0
}
