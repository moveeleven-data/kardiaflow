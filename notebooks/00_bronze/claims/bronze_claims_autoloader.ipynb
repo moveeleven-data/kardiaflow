{
 "cells": [
  {
   "metadata": {},
   "cell_type": "code",
   "outputs": [],
   "execution_count": null,
   "source": [
    "%md\n",
    "### Kardiaflow - Bronze Claims Auto Loader\n",
    "\n",
    "**Source:** Raw Parquet files in ADLS\n",
    "\n",
    "**Target:** `kardia_bronze.bronze_claims` (CDF enabled)\n",
    "\n",
    "**Trigger:** Incremental batch via Auto Loader; append to Bronze Claims table\n",
    "\n",
    "Notes: Parquet is self-describing. We rely on schema inference and enforce types in Silver."
   ]
  },
  {
   "metadata": {},
   "cell_type": "code",
   "outputs": [],
   "execution_count": 0,
   "source": [
    "import pyspark.sql.functions as F\n",
    "\n",
    "from kflow.config import BRONZE_DB, bronze_paths\n",
    "from kflow.etl_utils import add_audit_cols\n",
    "from kflow.notebook_utils import init, show_history\n",
    "\n",
    "# 1. Initialize notebook environment (auth and catalog)\n",
    "init()\n",
    "\n",
    "# Load table paths and names for the Claims dataset (paths, table, schema, etc.)\n",
    "P = bronze_paths(\"claims\")\n",
    "BRONZE_TABLE = P.table"
   ]
  },
  {
   "cell_type": "code",
   "execution_count": 0,
   "metadata": {
    "application/vnd.databricks.v1+cell": {
     "cellMetadata": {
      "byteLimit": 2048000,
      "rowLimit": 10000
     },
     "inputWidgets": {},
     "nuid": "436b2360-2660-4618-a2ae-c5d25bf2f29d",
     "showTitle": false,
     "tableResultSettingsMap": {},
     "title": ""
    }
   },
   "outputs": [],
   "source": [
    "# 2. Ensure Bronze DB and Claims table exist\n",
    "spark.sql(f\"CREATE DATABASE IF NOT EXISTS {BRONZE_DB}\")\n",
    "\n",
    "spark.sql(\n",
    "    f\"\"\"\n",
    "    CREATE TABLE IF NOT EXISTS {BRONZE_TABLE}\n",
    "    USING DELTA\n",
    "    COMMENT 'Bronze Parquet ingest of claim records.'\n",
    "    LOCATION '{P.bronze}'\n",
    "    TBLPROPERTIES (delta.enableChangeDataFeed = true)\n",
    "    \"\"\"\n",
    ")"
   ]
  },
  {
   "cell_type": "code",
   "execution_count": 0,
   "metadata": {
    "application/vnd.databricks.v1+cell": {
     "cellMetadata": {
      "byteLimit": 2048000,
      "rowLimit": 10000
     },
     "inputWidgets": {},
     "nuid": "5ccd7019-4e27-4d05-a90f-b1595faab7dd",
     "showTitle": false,
     "tableResultSettingsMap": {},
     "title": ""
    }
   },
   "outputs": [],
   "source": [
    "# 3. Define an incremental batch pipeline using Auto-loader.\n",
    "#    Auto Loader discovers new files in cloud storage and writes to a Delta table.\n",
    "stream = (\n",
    "    spark.readStream\n",
    "         .format(\"cloudFiles\")\n",
    "         .option(\"cloudFiles.format\", \"parquet\")\n",
    "         .option(\"cloudFiles.includeExistingFiles\", \"true\")\n",
    "         .option(\"cloudFiles.schemaLocation\", P.schema)\n",
    "         .option(\"badRecordsPath\", P.bad)\n",
    "         .load(P.raw)\n",
    "         # Drop any records without a valid primary key\n",
    "         .filter(F.col(\"ClaimID\").isNotNull())\n",
    "         # Add ingest timestamp, source file, batch ID\n",
    "         .transform(add_audit_cols)\n",
    "         \n",
    "         .writeStream\n",
    "         .option(\"checkpointLocation\", P.checkpoint)\n",
    "         .option(\"mergeSchema\", \"true\")\n",
    "         .trigger(availableNow=True)\n",
    "         .toTable(BRONZE_TABLE)\n",
    ")\n",
    "stream.awaitTermination()"
   ]
  },
  {
   "cell_type": "code",
   "execution_count": 0,
   "metadata": {
    "application/vnd.databricks.v1+cell": {
     "cellMetadata": {
      "byteLimit": 2048000,
      "rowLimit": 10000
     },
     "inputWidgets": {},
     "nuid": "622a42d7-59cd-4d82-a246-a4606a6908e0",
     "showTitle": false,
     "tableResultSettingsMap": {},
     "title": ""
    }
   },
   "outputs": [],
   "source": [
    "# 4. Batch finished - Verify Bronze Claims table and ingestion history.\n",
    "df = spark.table(BRONZE_TABLE)\n",
    "print(f\"Bronze Claims row count: {df.count():,}\")\n",
    "display(df.limit(5))\n",
    "show_history(P.bronze)"
   ]
  }
 ],
 "metadata": {
  "application/vnd.databricks.v1+notebook": {
   "computePreferences": null,
   "dashboards": [],
   "environmentMetadata": {
    "base_environment": "",
    "environment_version": "2"
   },
   "inputWidgetPreferences": null,
   "language": "python",
   "notebookMetadata": {
    "mostRecentlyExecutedCommandWithImplicitDF": {
     "commandId": 4898618290950570,
     "dataframes": [
      "_sqldf"
     ]
    },
    "pythonIndentUnit": 4
   },
   "notebookName": "bronze_claims_autoloader",
   "widgets": {}
  },
  "language_info": {
   "name": "python"
  }
 },
 "nbformat": 4,
 "nbformat_minor": 0
}
