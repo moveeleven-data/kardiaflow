{
 "cells": [
  {
   "cell_type": "code",
   "execution_count": 0,
   "metadata": {
    "application/vnd.databricks.v1+cell": {
     "cellMetadata": {
      "byteLimit": 2048000,
      "rowLimit": 10000
     },
     "inputWidgets": {},
     "nuid": "0eb5da8b-0131-4c9a-866f-9e9e93e04fe0",
     "showTitle": false,
     "tableResultSettingsMap": {},
     "title": ""
    }
   },
   "outputs": [],
   "source": [
    "# bronze_providers_autoloader.ipynb\n",
    "# SOURCE: Raw TSV files in ADLS\n",
    "# TARGET: `kardia_bronze.bronze_providers` (CDF)\n",
    "# TRIGGER: Incremental batch via Auto Loader; append to Bronze Providers table\n",
    "\n",
    "import pyspark.sql.functions as F\n",
    "from pyspark.sql.types import StructType, StructField, StringType\n",
    "\n",
    "from kflow.auth_adls import ensure_adls_oauth\n",
    "from kflow.config import BRONZE_DB, bronze_paths\n",
    "from kflow.display_utils import show_history\n",
    "from kflow.etl_utils import add_audit_cols\n",
    "\n",
    "# Configure Spark with ADLS OAuth credentials and return base ABFS path\n",
    "abfss_base = ensure_adls_oauth()\n",
    "\n",
    "# Set catalog to Hive Metastore (required when not using Unity Catalog)\n",
    "spark.sql(\"USE CATALOG hive_metastore\")\n",
    "\n",
    "# Load table paths and names for the Providers dataset (paths, table, schema, etc.)\n",
    "P            = bronze_paths(\"providers\")\n",
    "BRONZE_TABLE = P.table"
   ]
  },
  {
   "cell_type": "code",
   "execution_count": 0,
   "metadata": {
    "application/vnd.databricks.v1+cell": {
     "cellMetadata": {
      "byteLimit": 2048000,
      "rowLimit": 10000
     },
     "inputWidgets": {},
     "nuid": "859aa949-bb8e-440a-962c-163a8cf5b6bc",
     "showTitle": false,
     "tableResultSettingsMap": {},
     "title": ""
    }
   },
   "outputs": [],
   "source": [
    "# Define schema explicitly for TSV input\n",
    "# TSVs don’t include schema metadata and inference is unreliable\n",
    "provider_schema = StructType([\n",
    "    StructField(\"ProviderID\",        StringType(), True),\n",
    "    StructField(\"ProviderSpecialty\", StringType(), True),\n",
    "    StructField(\"ProviderLocation\",  StringType(), True),\n",
    "])"
   ]
  },
  {
   "cell_type": "code",
   "execution_count": 0,
   "metadata": {
    "application/vnd.databricks.v1+cell": {
     "cellMetadata": {
      "byteLimit": 2048000,
      "rowLimit": 10000
     },
     "inputWidgets": {},
     "nuid": "5ca1b112-71bb-4df5-8566-ceee97397bb1",
     "showTitle": false,
     "tableResultSettingsMap": {},
     "title": ""
    }
   },
   "outputs": [],
   "source": [
    "# 1. Ensure Bronze DB and Providers table exist\n",
    "spark.sql(f\"CREATE DATABASE IF NOT EXISTS {BRONZE_DB}\")\n",
    "\n",
    "spark.sql(\n",
    "    f\"\"\"\n",
    "    CREATE TABLE IF NOT EXISTS {BRONZE_TABLE} (\n",
    "        ProviderID        STRING,\n",
    "        ProviderSpecialty STRING,\n",
    "        ProviderLocation  STRING,\n",
    "        _ingest_ts        TIMESTAMP,\n",
    "        _batch_id         STRING,\n",
    "        _source_file      STRING,\n",
    "        _rescued_data     STRING\n",
    "    )\n",
    "    USING DELTA\n",
    "    COMMENT 'Bronze TSV ingest of Provider records.'\n",
    "    LOCATION '{P.bronze}'\n",
    "    TBLPROPERTIES (delta.enableChangeDataFeed = true)\n",
    "    \"\"\"\n",
    ")"
   ]
  },
  {
   "cell_type": "code",
   "metadata": {
    "application/vnd.databricks.v1+cell": {
     "cellMetadata": {
      "byteLimit": 2048000,
      "rowLimit": 10000
     },
     "inputWidgets": {},
     "nuid": "b6550e6d-105e-479a-82ef-e6c4c3f2fc05",
     "showTitle": false,
     "tableResultSettingsMap": {},
     "title": ""
    },
    "jupyter": {
     "is_executing": true
    }
   },
   "source": [
    "# 3. Define an incremental batch pipeline using Auto Loader\n",
    "\n",
    "# Collect all Auto Loader options\n",
    "auto_loader_opts = {\n",
    "    \"cloudFiles.format\": \"csv\",\n",
    "    \"cloudFiles.includeExistingFiles\": \"true\",\n",
    "    \"cloudFiles.schemaLocation\": P.schema,\n",
    "    \"delimiter\": \"\\t\",\n",
    "    \"header\": \"true\",\n",
    "    \"ignoreEmptyLines\": \"true\",\n",
    "    \"badRecordsPath\": P.bad,\n",
    "    \"rescuedDataColumn\": \"_rescued_data\"\n",
    "}\n",
    "\n",
    "stream = (\n",
    "    spark.readStream\n",
    "         .format(\"cloudFiles\")\n",
    "         .options(**auto_loader_opts)\n",
    "         .schema(provider_schema)\n",
    "         .load(P.raw)\n",
    "         # Drop any records without a valid primary key\n",
    "         .filter(F.col(\"ProviderID\").isNotNull())\n",
    "         # Add ingest timestamp, source file, batch ID\n",
    "         .transform(add_audit_cols)\n",
    "\n",
    "         .writeStream\n",
    "         .option(\"checkpointLocation\", P.checkpoint)\n",
    "         .option(\"mergeSchema\", \"true\")\n",
    "         .trigger(availableNow=True)\n",
    "         .toTable(BRONZE_TABLE)\n",
    ")\n",
    "stream.awaitTermination()"
   ],
   "outputs": [],
   "execution_count": null
  },
  {
   "cell_type": "code",
   "execution_count": 0,
   "metadata": {
    "application/vnd.databricks.v1+cell": {
     "cellMetadata": {
      "byteLimit": 2048000,
      "rowLimit": 10000
     },
     "inputWidgets": {},
     "nuid": "1a4c5497-1358-4652-a7b9-9950baaff3d5",
     "showTitle": false,
     "tableResultSettingsMap": {},
     "title": ""
    }
   },
   "outputs": [],
   "source": [
    "# 4. Batch finished - Verify Bronze Providers table and ingestion history.\n",
    "df = spark.table(BRONZE_TABLE)\n",
    "print(f\"Bronze Providers row count: {df.count():,}\")\n",
    "display(df.limit(5))\n",
    "show_history(P.bronze)"
   ]
  }
 ],
 "metadata": {
  "application/vnd.databricks.v1+notebook": {
   "computePreferences": null,
   "dashboards": [],
   "environmentMetadata": {
    "base_environment": "",
    "environment_version": "2"
   },
   "inputWidgetPreferences": null,
   "language": "python",
   "notebookMetadata": {
    "pythonIndentUnit": 4
   },
   "notebookName": "bronze_providers_autoloader",
   "widgets": {}
  },
  "language_info": {
   "name": "python"
  }
 },
 "nbformat": 4,
 "nbformat_minor": 0
}
