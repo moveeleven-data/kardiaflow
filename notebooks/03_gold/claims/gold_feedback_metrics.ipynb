{
 "cells": [
  {
   "metadata": {},
   "cell_type": "code",
   "outputs": [],
   "execution_count": null,
   "source": [
    "# gold_feedback_metrics.ipynb\n",
    "# GOAL 1: Satisfaction score metrics (avg, counts, comment stats) by specialty & source\n",
    "# GOAL 2: Tag usage and average satisfaction per tag\n",
    "# GOAL 3: Encounter–feedback match rate\n",
    "# SOURCE: kardia_silver.silver_feedback_enriched\n",
    "# TARGET: TABLE - gold_feedback_satisfaction\n",
    "#         TABLE - gold_feedback_tag_analysis\n",
    "#         TABLE - gold_feedback_encounter_match\n",
    "# TRIGGER: Full snapshot overwrite each run — simple for small datasets. */\n",
    "\n",
    "from kflow.auth_adls import ensure_adls_oauth\n",
    "from kflow.config import GOLD_DB, GOLD_DIR\n",
    "\n",
    "# Configure Spark with ADLS OAuth credentials and return base ABFS path\n",
    "abfss_base = ensure_adls_oauth()"
   ]
  },
  {
   "metadata": {},
   "cell_type": "code",
   "outputs": [],
   "execution_count": 0,
   "source": [
    "# Ensure Gold DB exists\n",
    "spark.sql(\"USE CATALOG hive_metastore\")\n",
    "spark.sql(f\"CREATE DATABASE IF NOT EXISTS {GOLD_DB} LOCATION '{GOLD_DIR}'\")\n",
    "spark.sql(f\"USE {GOLD_DB}\")"
   ]
  },
  {
   "cell_type": "code",
   "execution_count": 0,
   "metadata": {
    "application/vnd.databricks.v1+cell": {
     "cellMetadata": {
      "byteLimit": 2048000,
      "implicitDf": true,
      "rowLimit": 10000
     },
     "inputWidgets": {},
     "nuid": "20b25ead-1558-466b-b989-a27896774d41",
     "showTitle": false,
     "tableResultSettingsMap": {},
     "title": ""
    }
   },
   "outputs": [],
   "source": [
    "%sql\n",
    "-- Satisfaction metrics\n",
    "CREATE OR REPLACE TABLE gold_feedback_satisfaction\n",
    "USING DELTA AS\n",
    "SELECT\n",
    "  COALESCE(provider_specialty, 'Unknown') AS provider_specialty,\n",
    "  COALESCE(provider_id, 'Unknown')        AS provider_id,\n",
    "  COALESCE(source, 'Unknown')             AS source,\n",
    "  COUNT(*)                                AS feedback_count,\n",
    "  ROUND(AVG(satisfaction_score), 2)       AS avg_score\n",
    "FROM kardia_silver.silver_feedback_enriched\n",
    "GROUP BY COALESCE(provider_specialty, 'Unknown'),\n",
    "         COALESCE(provider_id, 'Unknown'),\n",
    "         COALESCE(source, 'Unknown');"
   ]
  },
  {
   "cell_type": "code",
   "execution_count": 0,
   "metadata": {
    "application/vnd.databricks.v1+cell": {
     "cellMetadata": {
      "byteLimit": 2048000,
      "implicitDf": true,
      "rowLimit": 10000
     },
     "inputWidgets": {},
     "nuid": "fcea538a-a635-4b5a-ae14-5d97d8341f4b",
     "showTitle": false,
     "tableResultSettingsMap": {},
     "title": ""
    }
   },
   "outputs": [],
   "source": [
    "%sql  \n",
    "-- 3. Tag usage and average satisfaction per tag  \n",
    "CREATE OR REPLACE TABLE gold_feedback_tag_analysis\n",
    "USING DELTA AS\n",
    "\n",
    "WITH exploded_tags AS (\n",
    "  SELECT\n",
    "    satisfaction_score,\n",
    "    EXPLODE(tags) AS tag\n",
    "  FROM kardia_silver.silver_feedback_enriched\n",
    ")\n",
    "\n",
    "SELECT\n",
    "  tag,\n",
    "  COUNT(*) AS feedback_count,\n",
    "  ROUND(AVG(satisfaction_score), 2) AS avg_score\n",
    "FROM exploded_tags\n",
    "GROUP BY tag\n",
    "ORDER BY feedback_count DESC;"
   ]
  },
  {
   "cell_type": "code",
   "execution_count": 0,
   "metadata": {
    "application/vnd.databricks.v1+cell": {
     "cellMetadata": {
      "byteLimit": 2048000,
      "implicitDf": true,
      "rowLimit": 10000
     },
     "inputWidgets": {},
     "nuid": "7ca8608b-b284-4110-abb3-c7341ce1c2a0",
     "showTitle": false,
     "tableResultSettingsMap": {},
     "title": ""
    }
   },
   "outputs": [],
   "source": [
    "%sql  \n",
    "-- 4. Encounter–feedback match rate (has valid visit_id?)  \n",
    "CREATE OR REPLACE TABLE gold_feedback_encounter_match\n",
    "USING DELTA AS\n",
    "\n",
    "WITH feedback_flag AS (\n",
    "  SELECT\n",
    "    CASE\n",
    "      WHEN visit_id IS NOT NULL AND TRIM(visit_id) <> '' THEN 1\n",
    "      ELSE 0\n",
    "    END AS has_valid_visit\n",
    "  FROM kardia_silver.silver_feedback_enriched\n",
    "),\n",
    "\n",
    "summary AS (\n",
    "  SELECT\n",
    "    COUNT(*) AS total_feedback_submissions,\n",
    "    SUM(has_valid_visit) AS matched_to_encounter_count\n",
    "  FROM feedback_flag\n",
    ")\n",
    "\n",
    "SELECT\n",
    "  total_feedback_submissions,\n",
    "  matched_to_encounter_count,\n",
    "  ROUND(\n",
    "    100.0 * matched_to_encounter_count / total_feedback_submissions,\n",
    "    2\n",
    "  ) AS match_rate_percent\n",
    "FROM summary;"
   ]
  },
  {
   "cell_type": "code",
   "execution_count": 0,
   "metadata": {
    "application/vnd.databricks.v1+cell": {
     "cellMetadata": {
      "byteLimit": 2048000,
      "implicitDf": true,
      "rowLimit": 10000
     },
     "inputWidgets": {},
     "nuid": "84b32967-698d-4e2c-a2e6-5dcb93782f2e",
     "showTitle": false,
     "tableResultSettingsMap": {},
     "title": ""
    }
   },
   "outputs": [],
   "source": [
    "%sql  \n",
    "-- 5. Preview: satisfaction metrics  \n",
    "SELECT *  \n",
    "FROM gold_feedback_satisfaction\n",
    "ORDER BY provider_specialty, source  \n",
    "LIMIT 20;"
   ]
  },
  {
   "cell_type": "code",
   "execution_count": 0,
   "metadata": {
    "application/vnd.databricks.v1+cell": {
     "cellMetadata": {
      "byteLimit": 2048000,
      "implicitDf": true,
      "rowLimit": 10000
     },
     "inputWidgets": {},
     "nuid": "637ea887-6124-4539-a2da-69800b2351d0",
     "showTitle": false,
     "tableResultSettingsMap": {},
     "title": ""
    }
   },
   "outputs": [],
   "source": [
    "%sql  \n",
    "-- Preview: tag analysis  \n",
    "SELECT * FROM gold_feedback_tag_analysis LIMIT 10;"
   ]
  },
  {
   "cell_type": "code",
   "execution_count": 0,
   "metadata": {
    "application/vnd.databricks.v1+cell": {
     "cellMetadata": {
      "byteLimit": 2048000,
      "implicitDf": true,
      "rowLimit": 10000
     },
     "inputWidgets": {},
     "nuid": "a6b52055-a534-40fe-84db-2003c3633904",
     "showTitle": false,
     "tableResultSettingsMap": {},
     "title": ""
    }
   },
   "outputs": [],
   "source": [
    "%sql  \n",
    "-- Preview: encounter–feedback match rate  \n",
    "SELECT * FROM gold_feedback_encounter_match LIMIT 10;"
   ]
  }
 ],
 "metadata": {
  "application/vnd.databricks.v1+notebook": {
   "computePreferences": null,
   "dashboards": [],
   "environmentMetadata": {
    "base_environment": "",
    "environment_version": "2"
   },
   "inputWidgetPreferences": null,
   "language": "python",
   "notebookMetadata": {
    "mostRecentlyExecutedCommandWithImplicitDF": {
     "commandId": 6557084226338572,
     "dataframes": [
      "_sqldf"
     ]
    },
    "pythonIndentUnit": 4
   },
   "notebookName": "gold_feedback_metrics",
   "widgets": {}
  },
  "language_info": {
   "name": "python"
  }
 },
 "nbformat": 4,
 "nbformat_minor": 0
}
