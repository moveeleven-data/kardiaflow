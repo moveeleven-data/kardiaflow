{
 "cells": [
  {
   "metadata": {},
   "cell_type": "code",
   "outputs": [],
   "execution_count": null,
   "source": [
    "%md\n",
    "### Kardiaflow - Gold: Provider Rolling Spend\n",
    "\n",
    "**Source:** `kardia_silver.silver_claims_enriched`\n",
    "\n",
    "**Targets:**\n",
    "`gold_provider_daily_spend`\n",
    "`gold_provider_7d_spend`\n",
    "\n",
    "**Trigger:** Full snapshot overwrite each run.\n",
    "\n",
    "**Purpose:** Summarize provider claim spend over time. Produces daily totals per provider and rolling 7-day spend metrics (total and average) for short-term financial trend monitoring.\n"
   ]
  },
  {
   "metadata": {},
   "cell_type": "code",
   "outputs": [],
   "execution_count": null,
   "source": [
    "from kflow.config import GOLD_DB, GOLD_DIR\n",
    "from kflow.notebook_utils import init\n",
    "\n",
    "init()"
   ]
  },
  {
   "metadata": {},
   "cell_type": "code",
   "outputs": [],
   "execution_count": 0,
   "source": [
    "# Ensure Gold DB exists\n",
    "spark.sql(f\"CREATE DATABASE IF NOT EXISTS {GOLD_DB}\")\n",
    "spark.sql(f\"USE {GOLD_DB}\")"
   ]
  },
  {
   "cell_type": "code",
   "execution_count": 0,
   "metadata": {
    "application/vnd.databricks.v1+cell": {
     "cellMetadata": {
      "byteLimit": 2048000,
      "implicitDf": true,
      "rowLimit": 10000
     },
     "inputWidgets": {},
     "nuid": "f3f0f6e3-bea0-41ef-bfcd-bf8845d4d73f",
     "showTitle": false,
     "tableResultSettingsMap": {},
     "title": ""
    }
   },
   "outputs": [],
   "source": [
    "%sql  \n",
    "-- Daily provider spend  \n",
    "CREATE OR REPLACE TABLE gold_provider_daily_spend\n",
    "USING DELTA\n",
    "LOCATION '${GOLD_DIR}/gold_provider_daily_spend'\n",
    "AS\n",
    "SELECT\n",
    "  provider_id,\n",
    "  CAST(claim_date AS DATE) AS spend_date,\n",
    "  SUM(claim_amount)        AS daily_spend\n",
    "FROM kardia_silver.silver_claims_enriched\n",
    "GROUP BY provider_id, CAST(claim_date AS DATE);"
   ]
  },
  {
   "cell_type": "code",
   "execution_count": 0,
   "metadata": {
    "application/vnd.databricks.v1+cell": {
     "cellMetadata": {
      "byteLimit": 2048000,
      "implicitDf": true,
      "rowLimit": 10000
     },
     "inputWidgets": {},
     "nuid": "30df1d8d-580e-4882-92e2-5a56ff9cba6e",
     "showTitle": false,
     "tableResultSettingsMap": {},
     "title": ""
    }
   },
   "outputs": [],
   "source": [
    "%sql\n",
    "-- 7-day rolling spend & average per provider\n",
    "CREATE OR REPLACE TABLE gold_provider_7d_spend\n",
    "USING DELTA\n",
    "LOCATION '${GOLD_DIR}/gold_provider_7d_spend'\n",
    "AS\n",
    "WITH daily_spend_per_provider AS (\n",
    "  -- sum spend per provider per day\n",
    "  SELECT\n",
    "    provider_id,\n",
    "    CAST(claim_date AS DATE) AS spend_date,\n",
    "    SUM(claim_amount) AS daily_spend\n",
    "  FROM kardia_silver.silver_claims_enriched\n",
    "  GROUP BY provider_id, CAST(claim_date AS DATE)\n",
    "),\n",
    "\n",
    "rolling_metrics AS (\n",
    "  -- 7-day calendar rolling totals and average\n",
    "  SELECT\n",
    "    provider_id,\n",
    "    spend_date,\n",
    "    daily_spend,\n",
    "    SUM(daily_spend) OVER (\n",
    "      PARTITION BY provider_id\n",
    "      ORDER BY CAST(spend_date AS TIMESTAMP)\n",
    "      RANGE BETWEEN INTERVAL 6 DAYS PRECEDING AND CURRENT ROW\n",
    "    ) AS rolling_7d_spend,\n",
    "    ROUND(\n",
    "      AVG(daily_spend) OVER (\n",
    "        PARTITION BY provider_id\n",
    "        ORDER BY CAST(spend_date AS TIMESTAMP)\n",
    "        RANGE BETWEEN INTERVAL 6 DAYS PRECEDING AND CURRENT ROW\n",
    "      ),\n",
    "      2\n",
    "    ) AS rolling_7d_avg\n",
    "  FROM daily_spend_per_provider\n",
    ")\n",
    "\n",
    "SELECT *\n",
    "FROM rolling_metrics;"
   ]
  },
  {
   "cell_type": "code",
   "execution_count": 0,
   "metadata": {
    "application/vnd.databricks.v1+cell": {
     "cellMetadata": {
      "byteLimit": 2048000,
      "implicitDf": true,
      "rowLimit": 10000
     },
     "inputWidgets": {},
     "nuid": "32a4edff-331b-4441-83f0-ac69fee5bae5",
     "showTitle": false,
     "tableResultSettingsMap": {},
     "title": ""
    }
   },
   "outputs": [],
   "source": [
    "%sql  \n",
    "-- Preview: daily spend  \n",
    "SELECT *  \n",
    "FROM gold_provider_daily_spend\n",
    "ORDER BY spend_date DESC  \n",
    "LIMIT 10;  "
   ]
  },
  {
   "cell_type": "code",
   "execution_count": 0,
   "metadata": {
    "application/vnd.databricks.v1+cell": {
     "cellMetadata": {
      "byteLimit": 2048000,
      "implicitDf": true,
      "rowLimit": 10000
     },
     "inputWidgets": {},
     "nuid": "704a879b-5916-42e5-afb8-b2919c992b2a",
     "showTitle": false,
     "tableResultSettingsMap": {},
     "title": ""
    }
   },
   "outputs": [],
   "source": [
    "%sql  \n",
    "-- Preview: 7‑day rolling spend  \n",
    "SELECT *  \n",
    "FROM gold_provider_7d_spend\n",
    "ORDER BY spend_date DESC  \n",
    "LIMIT 10;"
   ]
  }
 ],
 "metadata": {
  "application/vnd.databricks.v1+notebook": {
   "computePreferences": null,
   "dashboards": [],
   "environmentMetadata": {
    "base_environment": "",
    "environment_version": "2"
   },
   "inputWidgetPreferences": null,
   "language": "python",
   "notebookMetadata": {
    "mostRecentlyExecutedCommandWithImplicitDF": {
     "commandId": 6557084226338580,
     "dataframes": [
      "_sqldf"
     ]
    },
    "pythonIndentUnit": 4
   },
   "notebookName": "gold_provider_rolling_spend",
   "widgets": {}
  },
  "language_info": {
   "name": "python"
  }
 },
 "nbformat": 4,
 "nbformat_minor": 0
}
