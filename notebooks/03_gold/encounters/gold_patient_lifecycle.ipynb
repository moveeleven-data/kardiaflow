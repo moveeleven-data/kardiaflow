{
 "cells": [
  {
   "metadata": {},
   "cell_type": "code",
   "outputs": [],
   "execution_count": null,
   "source": [
    "%md\n",
    "### Kardiaflow - Gold: Provider Rolling Spend\n",
    "\n",
    "**Source:** `kardia_silver.silver_claims_enriched`\n",
    "\n",
    "**Targets:**\n",
    "`gold_provider_daily_spend`\n",
    "`gold_provider_7d_spend`\n",
    "\n",
    "**Trigger:** Full snapshot overwrite each run.\n",
    "\n",
    "**Purpose:** Tracks each patient’s first and last visit, total visits, lifetime span in days, classification (new vs returning), average time between visits, and recency since last encounter."
   ]
  },
  {
   "metadata": {},
   "cell_type": "code",
   "outputs": [],
   "execution_count": null,
   "source": [
    "from kflow.config import GOLD_DB, GOLD_DIR\n",
    "from kflow.notebook_utils import init, show_history\n",
    "\n",
    "init()"
   ]
  },
  {
   "metadata": {},
   "cell_type": "code",
   "outputs": [],
   "execution_count": 0,
   "source": [
    "# Ensure Gold DB exists\n",
    "spark.sql(f\"CREATE DATABASE IF NOT EXISTS {GOLD_DB}\")\n",
    "spark.sql(f\"USE {GOLD_DB}\")"
   ]
  },
  {
   "cell_type": "code",
   "execution_count": 0,
   "metadata": {
    "application/vnd.databricks.v1+cell": {
     "cellMetadata": {
      "byteLimit": 2048000,
      "implicitDf": true,
      "rowLimit": 10000
     },
     "inputWidgets": {},
     "nuid": "a4025731-b797-4792-bea8-ddc44ded3fc3",
     "showTitle": false,
     "tableResultSettingsMap": {},
     "title": ""
    }
   },
   "outputs": [],
   "source": [
    "%sql\n",
    "-- Simple patient lifecycle\n",
    "CREATE OR REPLACE TABLE kardia_gold.gold_patient_lifecycle\n",
    "USING DELTA\n",
    "LOCATION '${GOLD_DIR}/gold_patient_lifecycle'\n",
    "AS\n",
    "WITH patient_bounds AS (\n",
    "  -- raw per-patient first/last visit and count\n",
    "  SELECT\n",
    "    patient_id,\n",
    "    MIN(start_ts) AS first_visit_ts,\n",
    "    MAX(start_ts) AS last_visit_ts,\n",
    "    COUNT(*)      AS visit_count\n",
    "  FROM kardia_silver.silver_encounters_enriched\n",
    "  GROUP BY patient_id\n",
    "),\n",
    "\n",
    "patient_metrics AS (\n",
    "  -- derived fields based on bounds\n",
    "  SELECT\n",
    "    patient_id,\n",
    "    first_visit_ts,\n",
    "    last_visit_ts,\n",
    "    DATEDIFF(last_visit_ts, first_visit_ts) AS lifetime_days,\n",
    "    visit_count,\n",
    "    CASE WHEN visit_count = 1 THEN 'new' ELSE 'returning' END AS classification,\n",
    "    CASE\n",
    "      WHEN visit_count > 1 THEN\n",
    "        ROUND(\n",
    "          DATEDIFF(last_visit_ts, first_visit_ts) / CAST(visit_count - 1 AS DOUBLE),\n",
    "          2\n",
    "        )\n",
    "    END AS avg_days_between_visits\n",
    "  FROM patient_bounds\n",
    ")\n",
    "\n",
    "SELECT\n",
    "  patient_id,\n",
    "  first_visit_ts,\n",
    "  last_visit_ts,\n",
    "  lifetime_days,\n",
    "  visit_count,\n",
    "  classification,\n",
    "  avg_days_between_visits,\n",
    "  DATEDIFF(CURRENT_DATE(), DATE(last_visit_ts)) AS days_since_last_visit\n",
    "FROM patient_metrics;"
   ]
  },
  {
   "cell_type": "code",
   "execution_count": 0,
   "metadata": {
    "application/vnd.databricks.v1+cell": {
     "cellMetadata": {
      "byteLimit": 2048000,
      "implicitDf": true,
      "rowLimit": 10000
     },
     "inputWidgets": {},
     "nuid": "bae87730-fa99-404f-ab8f-350290e19205",
     "showTitle": false,
     "tableResultSettingsMap": {},
     "title": ""
    }
   },
   "outputs": [],
   "source": [
    "%sql\n",
    "-- 3. Preview: Top 10 patients by visit_count\n",
    "SELECT *\n",
    "FROM gold_patient_lifecycle\n",
    "ORDER BY visit_count DESC\n",
    "LIMIT 10;"
   ]
  }
 ],
 "metadata": {
  "application/vnd.databricks.v1+notebook": {
   "computePreferences": null,
   "dashboards": [],
   "environmentMetadata": {
    "base_environment": "",
    "environment_version": "2"
   },
   "inputWidgetPreferences": null,
   "language": "python",
   "notebookMetadata": {
    "mostRecentlyExecutedCommandWithImplicitDF": {
     "commandId": 6557084226338584,
     "dataframes": [
      "_sqldf"
     ]
    },
    "pythonIndentUnit": 4
   },
   "notebookName": "gold_patient_lifecycle",
   "widgets": {}
  },
  "language_info": {
   "name": "python"
  }
 },
 "nbformat": 4,
 "nbformat_minor": 0
}
