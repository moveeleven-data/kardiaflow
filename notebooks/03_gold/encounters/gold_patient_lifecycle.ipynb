{
 "cells": [
  {
   "metadata": {},
   "cell_type": "code",
   "outputs": [],
   "execution_count": null,
   "source": [
    "# gold_patient_lifecycle.ipynb\n",
    "#  GOAL 1: gold_patient_lifecycle — time between visits, patient lifetime span,\n",
    "#          new/returning classification, age‑band utilization\n",
    "# SOURCE: kardia_silver.silver_encounters_enriched\n",
    "# TARGET: TABLE - gold_patient_lifecycle\n",
    "# TRIGGER: Full snapshot overwrite each run — fast and simple for small datasets.\n",
    "# NOTE:\n",
    "#   - lifetime_days = days between first and last visit\n",
    "#   - classification = 'new' if only one visit, else 'returning'\n",
    "#   - age_band buckets based on current_date() – birth_year\n",
    "#   - avg_days_between_visits = lifetime_days ÷ (visit_count–1)\n",
    "#   - Current dataset has 2,565 distinct patient_id.\n",
    "\n",
    "# Optional library bootstrap for ephemeral jobs clusters\n",
    "%run ../../99_utilities/bootstrap_kflow\n",
    "\n",
    "from kflow.auth_adls import ensure_adls_oauth\n",
    "\n",
    "# Configure Spark with ADLS OAuth credentials and return base ABFS path\n",
    "abfss_base = ensure_adls_oauth()"
   ]
  },
  {
   "metadata": {},
   "cell_type": "code",
   "outputs": [],
   "execution_count": 0,
   "source": [
    "# Ensure Gold DB exists\n",
    "spark.sql(\n",
    "  f\"\"\"\n",
    "  CREATE DATABASE IF NOT EXISTS kardia_gold\n",
    "  LOCATION '{abfss_base}/kardia/gold'\n",
    "  \"\"\"\n",
    ")\n",
    "\n",
    "spark.sql(\"USE kardia_gold\")"
   ]
  },
  {
   "cell_type": "code",
   "execution_count": 0,
   "metadata": {
    "application/vnd.databricks.v1+cell": {
     "cellMetadata": {
      "byteLimit": 2048000,
      "implicitDf": true,
      "rowLimit": 10000
     },
     "inputWidgets": {},
     "nuid": "a4025731-b797-4792-bea8-ddc44ded3fc3",
     "showTitle": false,
     "tableResultSettingsMap": {},
     "title": ""
    }
   },
   "outputs": [],
   "source": [
    "%sql\n",
    "-- Simple patient lifecycle\n",
    "CREATE OR REPLACE TABLE kardia_gold.gold_patient_lifecycle\n",
    "USING DELTA AS\n",
    "\n",
    "WITH patient_bounds AS (\n",
    "  -- raw per-patient first/last visit and count\n",
    "  SELECT\n",
    "    patient_id,\n",
    "    MIN(start_ts) AS first_visit_ts,\n",
    "    MAX(start_ts) AS last_visit_ts,\n",
    "    COUNT(*)      AS visit_count\n",
    "  FROM kardia_silver.silver_encounters_enriched\n",
    "  GROUP BY patient_id\n",
    "),\n",
    "\n",
    "patient_metrics AS (\n",
    "  -- derived fields based on bounds\n",
    "  SELECT\n",
    "    patient_id,\n",
    "    first_visit_ts,\n",
    "    last_visit_ts,\n",
    "    DATEDIFF(last_visit_ts, first_visit_ts) AS lifetime_days,\n",
    "    visit_count,\n",
    "    CASE WHEN visit_count = 1 THEN 'new' ELSE 'returning' END AS classification,\n",
    "    CASE\n",
    "      WHEN visit_count > 1 THEN\n",
    "        ROUND(\n",
    "          DATEDIFF(last_visit_ts, first_visit_ts) / CAST(visit_count - 1 AS DOUBLE),\n",
    "          2\n",
    "        )\n",
    "    END AS avg_days_between_visits\n",
    "  FROM patient_bounds\n",
    ")\n",
    "\n",
    "SELECT\n",
    "  patient_id,\n",
    "  first_visit_ts,\n",
    "  last_visit_ts,\n",
    "  lifetime_days,\n",
    "  visit_count,\n",
    "  classification,\n",
    "  avg_days_between_visits,\n",
    "  DATEDIFF(CURRENT_DATE(), DATE(last_visit_ts)) AS recency_days\n",
    "FROM patient_metrics;"
   ]
  },
  {
   "cell_type": "code",
   "execution_count": 0,
   "metadata": {
    "application/vnd.databricks.v1+cell": {
     "cellMetadata": {
      "byteLimit": 2048000,
      "implicitDf": true,
      "rowLimit": 10000
     },
     "inputWidgets": {},
     "nuid": "bae87730-fa99-404f-ab8f-350290e19205",
     "showTitle": false,
     "tableResultSettingsMap": {},
     "title": ""
    }
   },
   "outputs": [],
   "source": [
    "%sql\n",
    "-- 3. Preview: Top 10 patients by visit_count\n",
    "SELECT *\n",
    "FROM gold_patient_lifecycle\n",
    "ORDER BY visit_count DESC\n",
    "LIMIT 10;"
   ]
  }
 ],
 "metadata": {
  "application/vnd.databricks.v1+notebook": {
   "computePreferences": null,
   "dashboards": [],
   "environmentMetadata": {
    "base_environment": "",
    "environment_version": "2"
   },
   "inputWidgetPreferences": null,
   "language": "python",
   "notebookMetadata": {
    "mostRecentlyExecutedCommandWithImplicitDF": {
     "commandId": 6557084226338584,
     "dataframes": [
      "_sqldf"
     ]
    },
    "pythonIndentUnit": 4
   },
   "notebookName": "gold_patient_lifecycle",
   "widgets": {}
  },
  "language_info": {
   "name": "python"
  }
 },
 "nbformat": 4,
 "nbformat_minor": 0
}
