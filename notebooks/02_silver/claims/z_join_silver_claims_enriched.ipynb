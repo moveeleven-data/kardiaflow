{
 "cells": [
  {
   "metadata": {},
   "cell_type": "code",
   "outputs": [],
   "execution_count": null,
   "source": [
    "%md\n",
    "### Kardiaflow - Silver Claims Enriched\n",
    "\n",
    "**Source:** Snapshot join of Silver claims with current Silver providers\n",
    "\n",
    "**Target:** `kardia_silver.silver_claims_enriched` (for Gold KPIs)\n",
    "\n",
    "**Pattern:** LEFT JOIN from claims to SCD2 providers, keeping only `is_current = TRUE` row\n",
    "\n",
    "**Trigger:** CTAS; rerun after any update to claims or providers\n",
    "\n",
    "Notes: LEFT JOIN preserves all claims, even if provider record is missing."
   ]
  },
  {
   "metadata": {},
   "cell_type": "code",
   "outputs": [],
   "execution_count": null,
   "source": [
    "from kflow.notebook_utils import init\n",
    "\n",
    "init()"
   ]
  },
  {
   "metadata": {},
   "cell_type": "code",
   "outputs": [],
   "execution_count": 0,
   "source": [
    "%sql\n",
    "-- 1. Ensure Silver DB exists\n",
    "CREATE DATABASE IF NOT EXISTS kardia_silver;\n",
    "USE kardia_silver;"
   ]
  },
  {
   "metadata": {},
   "cell_type": "code",
   "outputs": [],
   "execution_count": null,
   "source": [
    "%sql\n",
    "-- 2. Join claims to current provider attributes (no CTE – inline subquery)\n",
    "CREATE OR REPLACE TABLE silver_claims_enriched AS\n",
    "WITH current_providers AS (\n",
    "  SELECT provider_id,\n",
    "         provider_specialty,\n",
    "         provider_location\n",
    "  FROM   kardia_silver.silver_providers\n",
    "  WHERE  is_current = TRUE\n",
    ")\n",
    "SELECT\n",
    "    c.claim_id,\n",
    "    c.patient_id,\n",
    "    c.provider_id,\n",
    "    c.claim_amount,\n",
    "    c.claim_date,\n",
    "    c.diagnosis_code,\n",
    "    c.procedure_code,\n",
    "    c.claim_status,\n",
    "    c.claim_type,\n",
    "    c.claim_submission_method,\n",
    "    c._ingest_ts,\n",
    "    c._batch_id,\n",
    "    c._source_file,\n",
    "    cp.provider_specialty,\n",
    "    cp.provider_location\n",
    "FROM kardia_silver.silver_claims c\n",
    "LEFT JOIN current_providers cp\n",
    "  ON c.provider_id = cp.provider_id;"
   ]
  },
  {
   "cell_type": "code",
   "execution_count": 0,
   "metadata": {
    "application/vnd.databricks.v1+cell": {
     "cellMetadata": {
      "byteLimit": 2048000,
      "implicitDf": true,
      "rowLimit": 10000
     },
     "inputWidgets": {},
     "nuid": "b3cdfe10-ac59-4e52-ab44-294374411183",
     "showTitle": false,
     "tableResultSettingsMap": {},
     "title": ""
    }
   },
   "outputs": [],
   "source": [
    "%sql\n",
    "-- 3. Preview: Top 5 enriched claims\n",
    "SELECT *\n",
    "FROM kardia_silver.silver_claims_enriched\n",
    "ORDER BY claim_date DESC\n",
    "LIMIT 5;"
   ]
  }
 ],
 "metadata": {
  "application/vnd.databricks.v1+notebook": {
   "computePreferences": null,
   "dashboards": [],
   "environmentMetadata": {
    "base_environment": "",
    "environment_version": "2"
   },
   "inputWidgetPreferences": null,
   "language": "python",
   "notebookMetadata": {
    "mostRecentlyExecutedCommandWithImplicitDF": {
     "commandId": 6557084226338545,
     "dataframes": [
      "_sqldf"
     ]
    },
    "pythonIndentUnit": 4
   },
   "notebookName": "z_join_silver_claims_enriched",
   "widgets": {}
  },
  "language_info": {
   "name": "python"
  }
 },
 "nbformat": 4,
 "nbformat_minor": 0
}
