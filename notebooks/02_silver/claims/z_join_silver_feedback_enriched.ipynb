{
 "cells": [
  {
   "metadata": {},
   "cell_type": "code",
   "outputs": [],
   "execution_count": null,
   "source": [
    "# join_silver_feedback_enriched.ipynb\n",
    "# SOURCE: Snapshot join of Silver feedback and current provider attributes\n",
    "# OUTPUT: kardia_silver.silver_feedback_enriched\n",
    "# PATTERN: LEFT JOIN from feedback to SCD‑2 providers, keeping only the current provider row\n",
    "# TRIGGER: CTAS; rerun after any update to feedback or providers\n",
    "\n",
    "# NOTE:\n",
    "#  - LEFT JOIN preserves all feedback rows\n",
    "#  - IS_CURRENT = TRUE ensures only the current provider info is used\n",
    "\n",
    "# Uncomment the next line if running the notebook as a Job.\n",
    "# %pip install -q --no-deps --no-index --find-links=/dbfs/Shared/libs kflow\n",
    "\n",
    "from kflow.auth_adls import ensure_adls_oauth\n",
    "\n",
    "# Configure Spark with ADLS OAuth credentials and return base ABFS path\n",
    "abfss_base = ensure_adls_oauth()"
   ]
  },
  {
   "metadata": {},
   "cell_type": "code",
   "outputs": [],
   "execution_count": 0,
   "source": [
    "%sql\n",
    "-- Ensure Silver DB exists\n",
    "USE CATALOG hive_metastore;\n",
    "CREATE DATABASE IF NOT EXISTS kardia_silver;\n",
    "USE kardia_silver;"
   ]
  },
  {
   "cell_type": "code",
   "execution_count": 0,
   "metadata": {
    "application/vnd.databricks.v1+cell": {
     "cellMetadata": {
      "byteLimit": 2048000,
      "implicitDf": true,
      "rowLimit": 10000
     },
     "inputWidgets": {},
     "nuid": "9f73a614-a9eb-4918-aca5-b4cc16681789",
     "showTitle": false,
     "tableResultSettingsMap": {},
     "title": ""
    }
   },
   "outputs": [],
   "source": [
    "%sql\n",
    "-- 2. Join feedback to current provider attributes (no CTE – inline subquery)\n",
    "CREATE OR REPLACE TABLE silver_feedback_enriched AS\n",
    "WITH current_providers AS (\n",
    "  SELECT provider_id,\n",
    "         provider_specialty,\n",
    "         provider_location\n",
    "  FROM   kardia_silver.silver_providers\n",
    "  WHERE  is_current = TRUE\n",
    ")\n",
    "SELECT\n",
    "    f.feedback_id,\n",
    "    f.provider_id,\n",
    "    cp.provider_specialty,\n",
    "    cp.provider_location,\n",
    "    f.timestamp,\n",
    "    f.visit_id,\n",
    "    f.satisfaction_score,\n",
    "    f.comments,\n",
    "    f.source,\n",
    "    f.tags,\n",
    "    f.metadata,\n",
    "    f._ingest_ts,\n",
    "    f._source_file,\n",
    "    f._batch_id\n",
    "FROM kardia_silver.silver_feedback f\n",
    "LEFT JOIN current_providers cp\n",
    "  ON f.provider_id = cp.provider_id;"
   ]
  },
  {
   "cell_type": "code",
   "execution_count": 0,
   "metadata": {
    "application/vnd.databricks.v1+cell": {
     "cellMetadata": {
      "byteLimit": 2048000,
      "implicitDf": true,
      "rowLimit": 10000
     },
     "inputWidgets": {},
     "nuid": "9b664a2d-08af-4039-b9b5-3d46b0e9c8a3",
     "showTitle": false,
     "tableResultSettingsMap": {},
     "title": ""
    }
   },
   "outputs": [],
   "source": [
    "%sql\n",
    "-- 3. Preview: Most recent 5 feedback records\n",
    "SELECT *\n",
    "FROM kardia_silver.silver_feedback_enriched\n",
    "ORDER BY timestamp DESC\n",
    "LIMIT 5;"
   ]
  }
 ],
 "metadata": {
  "application/vnd.databricks.v1+notebook": {
   "computePreferences": null,
   "dashboards": [],
   "environmentMetadata": {
    "base_environment": "",
    "environment_version": "2"
   },
   "inputWidgetPreferences": null,
   "language": "python",
   "notebookMetadata": {
    "mostRecentlyExecutedCommandWithImplicitDF": {
     "commandId": 6557084226338549,
     "dataframes": [
      "_sqldf"
     ]
    },
    "pythonIndentUnit": 4
   },
   "notebookName": "z_join_silver_feedback_enriched",
   "widgets": {}
  },
  "language_info": {
   "name": "python"
  }
 },
 "nbformat": 4,
 "nbformat_minor": 0
}
