{
 "cells": [
  {
   "cell_type": "code",
   "execution_count": 0,
   "metadata": {
    "application/vnd.databricks.v1+cell": {
     "cellMetadata": {
      "byteLimit": 2048000,
      "rowLimit": 10000
     },
     "inputWidgets": {},
     "nuid": "af991508-bd26-4bdc-9074-b51ce140566c",
     "showTitle": false,
     "tableResultSettingsMap": {},
     "title": ""
    }
   },
   "outputs": [],
   "source": [
    "# silver_providers_scd2_batch.ipynb\n",
    "# SOURCE: `kardia_bronze.bronze_providers` (snapshot-style input with _ingest_ts)\n",
    "# TARGET: `kardia_silver.silver_providers` (SCD Type 2 with is_current flag)\n",
    "# PATTERN: Identify changed rows, close current version and insert new version\n",
    "# TRIGGER: Incremental batch\n",
    "\n",
    "# Uncomment the next line if running the notebook as a Job.\n",
    "# %pip install -q --no-deps --no-index --find-links=/dbfs/Shared/libs kflow\n",
    "\n",
    "from delta.tables import DeltaTable\n",
    "from pyspark.sql import functions as F\n",
    "from pyspark.sql.window import Window\n",
    "\n",
    "from kflow.auth_adls import ensure_adls_oauth\n",
    "from kflow.config import bronze_table, silver_paths\n",
    "\n",
    "# Configure Spark with ADLS OAuth credentials and return base ABFS path\n",
    "abfss_base = ensure_adls_oauth()\n",
    "\n",
    "# Set catalog to Hive Metastore (required when not using Unity Catalog)\n",
    "spark.sql(\"USE CATALOG hive_metastore\")\n",
    "\n",
    "# Load table paths and names for the Providers dataset\n",
    "S         = silver_paths(\"providers\")\n",
    "SRC_TABLE = bronze_table(\"providers\")\n",
    "TGT_TABLE = S.table\n",
    "\n",
    "# Define what constitutes a meaningful change for triggering a new version\n",
    "PROVIDER_CHANGE_CONDITION = (\n",
    "    \"NOT (t.provider_specialty <=> s.provider_specialty) OR \"\n",
    "    \"NOT (t.provider_location  <=> s.provider_location)\"\n",
    ")"
   ]
  },
  {
   "cell_type": "code",
   "execution_count": 0,
   "metadata": {
    "application/vnd.databricks.v1+cell": {
     "cellMetadata": {
      "byteLimit": 2048000,
      "rowLimit": 10000
     },
     "inputWidgets": {},
     "nuid": "547797b1-0ae0-426b-9bc5-e9948b3acf17",
     "showTitle": false,
     "tableResultSettingsMap": {},
     "title": ""
    }
   },
   "outputs": [],
   "source": [
    "# 1. Ensure Silver DB and Providers table exist\n",
    "spark.sql(f\"CREATE DATABASE IF NOT EXISTS {S.db}\")\n",
    "\n",
    "spark.sql(\n",
    "    f\"\"\"\n",
    "    CREATE TABLE IF NOT EXISTS {TGT_TABLE} (\n",
    "        provider_id         STRING  NOT NULL,\n",
    "        provider_specialty  STRING,\n",
    "        provider_location   STRING,\n",
    "        eff_start_ts        TIMESTAMP,\n",
    "        eff_end_ts          TIMESTAMP,\n",
    "        is_current          BOOLEAN,\n",
    "        _ingest_ts          TIMESTAMP,\n",
    "        _batch_id           STRING,\n",
    "        _source_file        STRING\n",
    "    ) USING DELTA\n",
    "    LOCATION '{S.path}'\n",
    "    \"\"\"\n",
    ")"
   ]
  },
  {
   "cell_type": "code",
   "execution_count": 0,
   "metadata": {
    "application/vnd.databricks.v1+cell": {
     "cellMetadata": {
      "byteLimit": 2048000,
      "rowLimit": 10000
     },
     "inputWidgets": {},
     "nuid": "3574ce08-e4d3-4084-9790-e95ebc96d917",
     "showTitle": false,
     "tableResultSettingsMap": {},
     "title": ""
    }
   },
   "outputs": [],
   "source": [
    "# 2. Load and prepare the latest snapshot from Bronze\n",
    "bronze = (\n",
    "    spark.table(SRC_TABLE)\n",
    "         .filter(F.col(\"ProviderID\").isNotNull())\n",
    ")\n",
    "\n",
    "w_latest = (\n",
    "    Window\n",
    "        .partitionBy(\"ProviderID\")\n",
    "        .orderBy(\n",
    "            F.col(\"_ingest_ts\")\n",
    "             .desc_nulls_last()\n",
    "        )\n",
    ")\n",
    "\n",
    "# Identify the most recent record per provider_id using ingest timestamp\n",
    "latest_src = (\n",
    "    bronze\n",
    "      .withColumn(\"_rn\", F.row_number().over(w_latest))\n",
    "      .filter(F.col(\"_rn\") == 1)\n",
    "      .select(\n",
    "          F.col(\"ProviderID\").alias(\"provider_id\"),\n",
    "          F.col(\"ProviderSpecialty\").alias(\"provider_specialty\"),\n",
    "          F.col(\"ProviderLocation\").alias(\"provider_location\"),\n",
    "          F.col(\"_ingest_ts\"),\n",
    "          F.col(\"_batch_id\"),\n",
    "          F.col(\"_source_file\")\n",
    "      )\n",
    "      .withColumn(\"eff_start_ts\", F.col(\"_ingest_ts\"))\n",
    "      .withColumn(\"eff_end_ts\", F.lit(None).cast(\"timestamp\"))\n",
    "      .withColumn(\"is_current\", F.lit(True))\n",
    ")"
   ]
  },
  {
   "cell_type": "code",
   "execution_count": 0,
   "metadata": {
    "application/vnd.databricks.v1+cell": {
     "cellMetadata": {
      "byteLimit": 2048000,
      "rowLimit": 10000
     },
     "inputWidgets": {},
     "nuid": "ee6e793f-56e2-4032-9598-80f0a4a47784",
     "showTitle": false,
     "tableResultSettingsMap": {},
     "title": ""
    }
   },
   "outputs": [],
   "source": [
    "# 3. Perform SCD Type 2 MERGE\n",
    "#    Track history for changes in specialty or location\n",
    "\n",
    "# Refresh so the newly created table is visible to the engine\n",
    "spark.sql(f\"REFRESH TABLE {TGT_TABLE}\")\n",
    "\n",
    "# Path-based DeltaTable to avoid metastore name resolution issues\n",
    "delta = DeltaTable.forPath(spark, S.path).alias(\"t\")\n",
    "(\n",
    "    delta\n",
    "    .merge(\n",
    "        latest_src.alias(\"s\"),\n",
    "        \"t.provider_id = s.provider_id AND t.is_current = TRUE\"\n",
    "    )\n",
    "\n",
    "    # CASE 1: If a current record exists and a tracked field has changed,\n",
    "    #         close it by setting eff_end_ts and marking it as not current.\n",
    "    .whenMatchedUpdate(\n",
    "        condition=PROVIDER_CHANGE_CONDITION,\n",
    "        set={\n",
    "            \"eff_end_ts\": F.col(\"s.eff_start_ts\"),\n",
    "            \"is_current\": F.lit(False),\n",
    "        },\n",
    "    )\n",
    "\n",
    "    # CASE 2: If no current row matches (e.g. new provider or a closed one),\n",
    "    #         insert the incoming record as the new current version.\n",
    "    .whenNotMatchedInsertAll()\n",
    "    .execute()\n",
    ")"
   ]
  },
  {
   "cell_type": "code",
   "execution_count": 0,
   "metadata": {
    "application/vnd.databricks.v1+cell": {
     "cellMetadata": {
      "byteLimit": 2048000,
      "rowLimit": 10000
     },
     "inputWidgets": {},
     "nuid": "328d38cf-8186-4559-9ca0-beabe448e213",
     "showTitle": false,
     "tableResultSettingsMap": {},
     "title": ""
    }
   },
   "outputs": [],
   "source": [
    "# 3. Verify Silver Providers SCD2 output\n",
    "df = spark.table(TGT_TABLE)\n",
    "print(f\"Silver Providers row count: {df.count():,}\")\n",
    "display(df.orderBy(F.col(\"eff_start_ts\").desc()).limit(5))"
   ]
  }
 ],
 "metadata": {
  "application/vnd.databricks.v1+notebook": {
   "computePreferences": null,
   "dashboards": [],
   "environmentMetadata": {
    "base_environment": "",
    "environment_version": "2"
   },
   "inputWidgetPreferences": null,
   "language": "python",
   "notebookMetadata": {
    "mostRecentlyExecutedCommandWithImplicitDF": {
     "commandId": 4880559092059771,
     "dataframes": [
      "_sqldf"
     ]
    },
    "pythonIndentUnit": 4
   },
   "notebookName": "silver_providers_scd2_batch",
   "widgets": {}
  },
  "language_info": {
   "name": "python"
  }
 },
 "nbformat": 4,
 "nbformat_minor": 0
}
