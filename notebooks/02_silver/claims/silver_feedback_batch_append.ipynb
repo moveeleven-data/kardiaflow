{
 "cells": [
  {
   "metadata": {},
   "cell_type": "code",
   "outputs": [],
   "execution_count": null,
   "source": [
    "%md\n",
    "### Kardiaflow - Silver Feedback (Append-only)\n",
    "\n",
    "**Source:** `kardia_bronze.bronze_feedback` (JSONL with audit metadata)\n",
    "\n",
    "**Target:** `kardia_silver.silver_feedback` (append-only)\n",
    "\n",
    "**Pattern:** Deduplicate within batch by `feedback_id`; MERGE with insert-only semantics\n",
    "\n",
    "**Trigger:** Incremental batch job\n",
    "\n",
    "Notes: Feedback is immutable; SCD not required."
   ]
  },
  {
   "metadata": {},
   "cell_type": "code",
   "outputs": [],
   "execution_count": 0,
   "source": [
    "from delta.tables import DeltaTable\n",
    "from pyspark.sql import functions as F\n",
    "from pyspark.sql.types import MapType, StringType\n",
    "from pyspark.sql.window import Window\n",
    "\n",
    "from kflow.config import bronze_table, silver_paths\n",
    "from kflow.notebook_utils import init, show_history\n",
    "\n",
    "init()\n",
    "\n",
    "# Load table paths and names for the Feedback dataset\n",
    "S         = silver_paths(\"feedback\")\n",
    "SRC_TABLE = bronze_table(\"feedback\")\n",
    "TGT_TABLE = S.table"
   ]
  },
  {
   "cell_type": "code",
   "execution_count": 0,
   "metadata": {
    "application/vnd.databricks.v1+cell": {
     "cellMetadata": {
      "byteLimit": 2048000,
      "rowLimit": 10000
     },
     "inputWidgets": {},
     "nuid": "b6d756b0-011c-4939-b16c-13f5bf831d55",
     "showTitle": false,
     "tableResultSettingsMap": {},
     "title": ""
    }
   },
   "outputs": [],
   "source": [
    "# 1. Ensure Silver DB and Feedback table exist\n",
    "spark.sql(f\"CREATE DATABASE IF NOT EXISTS {S.db}\")\n",
    "\n",
    "spark.sql(\n",
    "    f\"\"\"\n",
    "    CREATE TABLE IF NOT EXISTS {TGT_TABLE} (\n",
    "        feedback_id        STRING  NOT NULL,\n",
    "        provider_id        STRING,\n",
    "        timestamp          TIMESTAMP,\n",
    "        visit_id           STRING,\n",
    "        satisfaction_score INT,\n",
    "        comments           STRING,\n",
    "        source             STRING,\n",
    "        tags               ARRAY<STRING>,\n",
    "        metadata           MAP<STRING,STRING>,\n",
    "        _ingest_ts         TIMESTAMP,\n",
    "        _source_file       STRING,\n",
    "        _batch_id          STRING\n",
    "    ) USING DELTA\n",
    "    LOCATION '{S.path}'\n",
    "    \"\"\"\n",
    ")"
   ]
  },
  {
   "cell_type": "code",
   "execution_count": 0,
   "metadata": {
    "application/vnd.databricks.v1+cell": {
     "cellMetadata": {
      "byteLimit": 2048000,
      "rowLimit": 10000
     },
     "inputWidgets": {},
     "nuid": "f21887b4-9439-46c6-bb01-81eb494af005",
     "showTitle": false,
     "tableResultSettingsMap": {},
     "title": ""
    }
   },
   "outputs": [],
   "source": [
    "# 2. Load Bronze records and prepare deduplicated batch\n",
    "bronze_df = (\n",
    "    spark.table(SRC_TABLE)\n",
    "         .filter(F.col(\"feedback_id\").isNotNull())\n",
    ")\n",
    "\n",
    "# Parse types, select relevant fields, and deduplicate by `feedback_id`\n",
    "base_src = (\n",
    "    bronze_df\n",
    "      .withColumn(\"timestamp\", F.to_timestamp(\"timestamp\"))\n",
    "      .withColumn(\"metadata\", F.from_json(\"metadata_json\", MapType(StringType(), StringType())))\n",
    "      .select(\n",
    "          \"feedback_id\",\n",
    "          \"provider_id\",\n",
    "          \"timestamp\",\n",
    "          \"visit_id\",\n",
    "          \"satisfaction_score\",\n",
    "          \"comments\",\n",
    "          \"source\",\n",
    "          \"tags\",\n",
    "          \"metadata\",\n",
    "          \"_ingest_ts\",\n",
    "          \"_source_file\",\n",
    "          \"_batch_id\"\n",
    "      )\n",
    ")\n",
    "\n",
    "# Retain only the latest version per feedback_id in this micro-batch\n",
    "w_latest = Window.partitionBy(\"feedback_id\").orderBy(\n",
    "      F.col(\"timestamp\").desc_nulls_last(),\n",
    "      F.col(\"_ingest_ts\").desc_nulls_last()\n",
    ")\n",
    "\n",
    "deduped_df = (\n",
    "    base_src\n",
    "      .withColumn(\"_rn\", F.row_number().over(w_latest))\n",
    "      .filter(F.col(\"_rn\") == 1)\n",
    "      .drop(\"_rn\")\n",
    ")\n",
    "\n",
    "# Final DataFrame used in MERGE\n",
    "latest_df = deduped_df"
   ]
  },
  {
   "cell_type": "code",
   "execution_count": 0,
   "metadata": {
    "application/vnd.databricks.v1+cell": {
     "cellMetadata": {
      "byteLimit": 2048000,
      "rowLimit": 10000
     },
     "inputWidgets": {},
     "nuid": "34535a61-fe5d-4291-80cb-d190de993263",
     "showTitle": false,
     "tableResultSettingsMap": {},
     "title": ""
    }
   },
   "outputs": [],
   "source": [
    "# 3. MERGE (insert) new feedback records into Silver table\n",
    "\n",
    "# Refresh so the newly created table is visible to the engine\n",
    "spark.sql(f\"REFRESH TABLE {TGT_TABLE}\")\n",
    "\n",
    "(\n",
    "    DeltaTable.forPath(spark, S.path)\n",
    "              .alias(\"t\")\n",
    "              .merge(latest_df.alias(\"s\"), \"t.feedback_id = s.feedback_id\")\n",
    "              .whenNotMatchedInsertAll()\n",
    "              .execute()\n",
    ")"
   ]
  },
  {
   "cell_type": "code",
   "execution_count": 0,
   "metadata": {
    "application/vnd.databricks.v1+cell": {
     "cellMetadata": {
      "byteLimit": 2048000,
      "rowLimit": 10000
     },
     "inputWidgets": {},
     "nuid": "d346df86-4858-46a2-9bb1-18ec025a444f",
     "showTitle": false,
     "tableResultSettingsMap": {},
     "title": ""
    }
   },
   "outputs": [],
   "source": [
    "# 4. Verify Silver Feedback table row count and preview records.\n",
    "df = spark.table(TGT_TABLE)\n",
    "print(f\"Silver Feedback row count: {df.count():,}\")\n",
    "display(df.orderBy(F.col(\"_ingest_ts\").desc()).limit(5))\n",
    "show_history(S.path)"
   ]
  }
 ],
 "metadata": {
  "application/vnd.databricks.v1+notebook": {
   "computePreferences": null,
   "dashboards": [],
   "environmentMetadata": {
    "base_environment": "",
    "environment_version": "2"
   },
   "inputWidgetPreferences": null,
   "language": "python",
   "notebookMetadata": {
    "pythonIndentUnit": 4
   },
   "notebookName": "silver_feedback_batch_append",
   "widgets": {}
  },
  "language_info": {
   "name": "python"
  }
 },
 "nbformat": 4,
 "nbformat_minor": 0
}
