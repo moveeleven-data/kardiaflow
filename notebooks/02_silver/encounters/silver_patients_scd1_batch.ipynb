{
 "cells": [
  {
   "metadata": {},
   "cell_type": "code",
   "outputs": [],
   "execution_count": null,
   "source": [
    "%md\n",
    "### Kardiaflow - Silver Patients (SCD1)\n",
    "\n",
    "**Source:** `kardia_bronze.bronze_patients` (CDF)\n",
    "\n",
    "**Target:** `kardia_silver.silver_patients` (SCD1 upsert)\n",
    "\n",
    "**Pattern:** Deduplicate by patient; mask PHI, derive `birth_year`, MERGE update/insert (SCD1)\n",
    "\n",
    "**Trigger:** Incremental batch\n",
    "\n",
    "Notes:\n",
    "- Masks sensitive PHI fields.\n",
    "- Derives `birth_year` from `BIRTHDATE`."
   ]
  },
  {
   "metadata": {},
   "cell_type": "code",
   "outputs": [],
   "execution_count": 0,
   "source": [
    "from delta.tables import DeltaTable\n",
    "from pyspark.sql import functions as F\n",
    "from pyspark.sql.window import Window\n",
    "\n",
    "from kflow.config import  bronze_table, CHANGE_TYPES, PHI_COLS_MASK, silver_paths\n",
    "from kflow.notebook_utils import init, show_history\n",
    "\n",
    "init()\n",
    "\n",
    "# Load table paths and names for the Patients dataset\n",
    "S         = silver_paths(\"patients\")\n",
    "SRC_TABLE = bronze_table(\"patients\")\n",
    "TGT_TABLE = S.table\n",
    "CKPT      = S.checkpoint"
   ]
  },
  {
   "cell_type": "code",
   "execution_count": 0,
   "metadata": {
    "application/vnd.databricks.v1+cell": {
     "cellMetadata": {
      "byteLimit": 2048000,
      "rowLimit": 10000
     },
     "inputWidgets": {},
     "nuid": "e2379f2f-d84d-4cb3-b233-8c5f4a943330",
     "showTitle": false,
     "tableResultSettingsMap": {},
     "title": ""
    }
   },
   "outputs": [],
   "source": [
    "# 1. Ensure Silver DB and Patients table exist\n",
    "spark.sql(f\"CREATE DATABASE IF NOT EXISTS {S.db}\")\n",
    "\n",
    "spark.sql(\n",
    "    f\"\"\"\n",
    "    CREATE TABLE IF NOT EXISTS {TGT_TABLE} (\n",
    "        id             STRING  NOT NULL,\n",
    "        birth_year     INT,\n",
    "        deathdate      STRING,\n",
    "        first          STRING,\n",
    "        last           STRING,\n",
    "        ssn            STRING,\n",
    "        drivers        STRING,\n",
    "        passport       STRING,\n",
    "        birthplace     STRING,\n",
    "        marital        STRING,\n",
    "        race           STRING,\n",
    "        ethnicity      STRING,\n",
    "        gender         STRING,\n",
    "        _ingest_ts     TIMESTAMP,\n",
    "        _batch_id      STRING,\n",
    "        _source_file   STRING\n",
    "    ) USING DELTA\n",
    "    LOCATION '{S.path}'\n",
    "    \"\"\"\n",
    ")"
   ]
  },
  {
   "cell_type": "code",
   "execution_count": 0,
   "metadata": {
    "application/vnd.databricks.v1+cell": {
     "cellMetadata": {
      "byteLimit": 2048000,
      "rowLimit": 10000
     },
     "inputWidgets": {},
     "nuid": "98924db2-31e3-4d0d-9519-43095900d7b2",
     "showTitle": false,
     "tableResultSettingsMap": {},
     "title": ""
    }
   },
   "outputs": [],
   "source": [
    "# 2. Define upsert logic to apply SCD1 updates to Silver Patients\n",
    "def upsert_to_silver(batch_df, _):\n",
    "    # Retain inserts and updates only\n",
    "    filtered = (\n",
    "        batch_df\n",
    "          .filter(F.col(\"_change_type\").isin(*CHANGE_TYPES))\n",
    "          .filter(F.col(\"ID\").isNotNull())\n",
    "    )\n",
    "\n",
    "    # Retain the latest record per patient, ordered by _ingest_ts\n",
    "    w_latest = (\n",
    "        Window.partitionBy(\"ID\")\n",
    "              .orderBy(\n",
    "                  F.col(\"_commit_version\").desc_nulls_last(),\n",
    "                  F.col(\"_commit_timestamp\").desc_nulls_last()\n",
    "              )\n",
    "    )\n",
    "\n",
    "    deduped_df = (\n",
    "        filtered\n",
    "          .withColumn(\"rn\", F.row_number().over(w_latest))\n",
    "          .filter(\"rn = 1\")\n",
    "          .drop(\"rn\", \"_commit_version\", \"_commit_timestamp\")\n",
    "    )\n",
    "\n",
    "    # Mask PHI, standardize column names, derive birth_year\n",
    "    latest_df = (\n",
    "        deduped_df.select(\n",
    "            F.col(\"ID\").alias(\"id\"),\n",
    "            F.year(F.to_date(\"BIRTHDATE\", \"yyyy-MM-dd\")).alias(\"birth_year\"),\n",
    "            *[F.lit(None).cast(\"string\").alias(c.lower()) for c in PHI_COLS_MASK],\n",
    "            F.col(\"MARITAL\").alias(\"marital\"),\n",
    "            F.col(\"RACE\").alias(\"race\"),\n",
    "            F.col(\"ETHNICITY\").alias(\"ethnicity\"),\n",
    "            F.col(\"GENDER\").alias(\"gender\"),\n",
    "            F.col(\"_ingest_ts\"),\n",
    "            F.col(\"_batch_id\"),\n",
    "            F.col(\"_source_file\"),\n",
    "        )\n",
    "    )\n",
    "\n",
    "    # Upsert into Silver\n",
    "    (\n",
    "        DeltaTable.forName(spark, TGT_TABLE)\n",
    "            .alias(\"t\")\n",
    "            .merge(latest_df.alias(\"s\"), \"t.id = s.id\")\n",
    "            .whenMatchedUpdateAll()\n",
    "            .whenNotMatchedInsertAll()\n",
    "            .execute()\n",
    "    )"
   ]
  },
  {
   "cell_type": "code",
   "execution_count": 0,
   "metadata": {
    "application/vnd.databricks.v1+cell": {
     "cellMetadata": {
      "byteLimit": 2048000,
      "rowLimit": 10000
     },
     "inputWidgets": {},
     "nuid": "8ff4cd03-0b35-439f-b003-8f49a105188f",
     "showTitle": false,
     "tableResultSettingsMap": {},
     "title": ""
    }
   },
   "outputs": [],
   "source": [
    "# 3. Incremental batch run\n",
    "(spark.readStream\n",
    "      .format(\"delta\")\n",
    "      .option(\"readChangeFeed\", \"true\")\n",
    "      .option(\"startingVersion\", 1) # Skip v0; table creation/metadata. Checkpoint will track after first run.\n",
    "      .table(SRC_TABLE)\n",
    "\n",
    "      .writeStream\n",
    "      .foreachBatch(upsert_to_silver)\n",
    "      .option(\"checkpointLocation\", CKPT)\n",
    "      .trigger(availableNow=True)\n",
    "      .start()\n",
    "      .awaitTermination())"
   ]
  },
  {
   "cell_type": "code",
   "execution_count": 0,
   "metadata": {
    "application/vnd.databricks.v1+cell": {
     "cellMetadata": {
      "byteLimit": 2048000,
      "rowLimit": 10000
     },
     "inputWidgets": {},
     "nuid": "5b597cd5-61ce-41df-a85d-2347a6848a7b",
     "showTitle": false,
     "tableResultSettingsMap": {},
     "title": ""
    }
   },
   "outputs": [],
   "source": [
    "# 4. Verify Silver Patients table row count and checkpoint path.\n",
    "df = spark.table(TGT_TABLE)\n",
    "print(f\"Silver Patients row count: {df.count():,}\")\n",
    "display(df.orderBy(F.col(\"_ingest_ts\").desc_nulls_last()).limit(5))\n",
    "show_history(S.path)"
   ]
  }
 ],
 "metadata": {
  "application/vnd.databricks.v1+notebook": {
   "computePreferences": null,
   "dashboards": [],
   "environmentMetadata": {
    "base_environment": "",
    "environment_version": "2"
   },
   "inputWidgetPreferences": null,
   "language": "python",
   "notebookMetadata": {
    "mostRecentlyExecutedCommandWithImplicitDF": {
     "commandId": 7461780133328275,
     "dataframes": [
      "_sqldf"
     ]
    },
    "pythonIndentUnit": 4
   },
   "notebookName": "silver_patients_scd1_batch",
   "widgets": {}
  },
  "language_info": {
   "name": "python"
  }
 },
 "nbformat": 4,
 "nbformat_minor": 0
}
