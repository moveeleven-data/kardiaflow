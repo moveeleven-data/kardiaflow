{
 "cells": [
  {
   "metadata": {},
   "cell_type": "code",
   "outputs": [],
   "execution_count": null,
   "source": [
    "# 99_run_smoke_job.ipynb\n",
    "# Run KardiaFlow smoke tests from packaged kflow.validation module (for job runs)\n",
    "\n",
    "from kflow.validation.run_smoke import run_all_smoke_tests\n",
    "\n",
    "exit_code = run_all_smoke_tests()\n",
    "if exit_code != 0:\n",
    "    raise Exception(\"Smoke tests failed\")"
   ],
   "id": "bc30235af7a5ec2f"
  }
 ],
 "metadata": {},
 "nbformat": 4,
 "nbformat_minor": 5
}
